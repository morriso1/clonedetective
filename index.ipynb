{
 "cells": [
  {
   "cell_type": "code",
   "execution_count": null,
   "metadata": {},
   "outputs": [],
   "source": [
    "#hide\n",
    "from py_clone_detective import utils"
   ]
  },
  {
   "cell_type": "markdown",
   "metadata": {},
   "source": [
    "# py_clone_detective\n",
    "\n",
    "> A python library for automated cell lineage analysis."
   ]
  },
  {
   "cell_type": "markdown",
   "metadata": {},
   "source": [
    "<img src=\"docs/images/py_clone_detector_scheme.png\">"
   ]
  },
  {
   "cell_type": "markdown",
   "metadata": {},
   "source": [
    "## Install"
   ]
  },
  {
   "cell_type": "markdown",
   "metadata": {},
   "source": [
    "pip install not yet supported but will be soon!\n",
    "\n",
    "`pip install coming_soon`"
   ]
  },
  {
   "cell_type": "markdown",
   "metadata": {},
   "source": [
    "## How to use - simple use case\n",
    "\n",
    "For a more detailed walkthrough, please see individual tutorials."
   ]
  },
  {
   "cell_type": "markdown",
   "metadata": {},
   "source": [
    "#### Import and instantiate CloneCounter subclass:\n",
    "\n",
    "The LazyCloneCounter subclass uses Dask to lazy load image series that maybe too large to fit in RAM."
   ]
  },
  {
   "cell_type": "code",
   "execution_count": null,
   "metadata": {},
   "outputs": [],
   "source": [
    "from py_clone_detective.clone_counters import LazyCloneCounter"
   ]
  },
  {
   "cell_type": "markdown",
   "metadata": {},
   "source": [
    "We intialise a LazyCloneCounter with four required arguments:\n",
    "1) **exp_name** : str -> name of the experiment\n",
    "2) **img_name_regex** : str -> regular expression used to extract unique identifies from image filenames\n",
    "3) **pixel_size** : str -> pixel size in $\\mu m^{2}$\n",
    "4) **tot_seg_ch** : str -> image channel used to define the total number of cells e.g. DAPI channel."
   ]
  },
  {
   "cell_type": "code",
   "execution_count": null,
   "metadata": {},
   "outputs": [],
   "source": [
    "exp = LazyCloneCounter()"
   ]
  },
  {
   "cell_type": "markdown",
   "metadata": {},
   "source": [
    "#### Read images"
   ]
  }
 ],
 "metadata": {
  "kernelspec": {
   "display_name": "Python 3",
   "language": "python",
   "name": "python3"
  }
 },
 "nbformat": 4,
 "nbformat_minor": 4
}
