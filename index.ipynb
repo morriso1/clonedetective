{
 "cells": [
  {
   "cell_type": "code",
   "execution_count": null,
   "metadata": {},
   "outputs": [],
   "source": [
    "# hide\n",
    "%load_ext autoreload\n",
    "%autoreload 2"
   ]
  },
  {
   "cell_type": "markdown",
   "metadata": {},
   "source": [
    "# clonedetective\n",
    "\n",
    "> A python library for automated cell lineage analysis."
   ]
  },
  {
   "cell_type": "markdown",
   "metadata": {},
   "source": [
    "<img src=\"docs/images/clonedetective_scheme.png\" width =800>"
   ]
  },
  {
   "cell_type": "markdown",
   "metadata": {},
   "source": [
    "## What does it do?"
   ]
  },
  {
   "cell_type": "markdown",
   "metadata": {},
   "source": [
    "**clonedetective** is a package for analysing fluorescent imaging data from cell lineage experiments (e.g. FLP-out, MARCM or Cre-lox clones).\n",
    "\n",
    "Outputted quantifications include:\n",
    "- counts of each cell type per “clone”\n",
    "- spatial metrics e.g. number of nearest neighbors of each cell per clone\n",
    "- cell and clone properties e.g. area, mean intensity etc.\n",
    "\n",
    "If clones label genetic mutations, these metrics can be useful in addressing biological questions such as:\n",
    "- does my gene of interest regulate clone size (i.e. cell proliferation) or clone composition (i.e. cell differentiation)?\n",
    "- does the local cell neighbourhood (e.g. number and type of neighbours) non-autonomously impact cell proliferation or differentiation? \n",
    "- does my gene of interest regulate the expression of other (immunostained) proteins?"
   ]
  },
  {
   "cell_type": "markdown",
   "metadata": {},
   "source": [
    "## Under the hood"
   ]
  },
  {
   "cell_type": "markdown",
   "metadata": {},
   "source": [
    "**clonedetective** is constructed using many amazing python libraries, including scikit-image, numpy, Xarray, pandas, numba, Dask, Dask-image and pyclesperanto-prototype.\n",
    "\n",
    "Many functions are lazy-loaded and parallelized using [Dask](https://dask.org/), enabling clonedetective to scale to large multi-dimensional datasets that do not fit in RAM."
   ]
  },
  {
   "cell_type": "markdown",
   "metadata": {},
   "source": [
    "## Install"
   ]
  },
  {
   "cell_type": "markdown",
   "metadata": {},
   "source": [
    "It is recommended to install `clonedetective` into a virtual environment e.g. using [conda](https://docs.conda.io/). Once you have anaconda or miniconda installed, you can create a virtual environment using the following command. It is often helpful to install something into an empty environment, in this case we install scipy:\n",
    "\n",
    "`conda create -n myenv scipy` "
   ]
  },
  {
   "cell_type": "markdown",
   "metadata": {},
   "source": [
    "You can then install clonedetective via pip:\n",
    "\n",
    "`pip install clonedetective`"
   ]
  },
  {
   "cell_type": "markdown",
   "metadata": {},
   "source": [
    "## How to use\n",
    "\n",
    "Please see the tutorials:  \n",
    "1) [Example walkthrough](https://morriso1.github.io/clonedetective/Tutorial_Walkthrough.html)  \n",
    "2) [Downstream Analysis using Python](https://morriso1.github.io/clonedetective/Tutorial_Downstream_Analysis_Python.html)  \n",
    "3) [Downstream Analysis using R](https://morriso1.github.io/clonedetective/Tutorial_Downstream_Analysis_R.html)  \n",
    "4) [Generating nuclei segmentation using StarDist](https://morriso1.github.io/clonedetective/Tutorial_StarDist_Segmentation.html)  \n",
    "\n",
    "In progress, more to come!"
   ]
  }
 ],
 "metadata": {
  "kernelspec": {
   "display_name": "Python 3 (ipykernel)",
   "language": "python",
   "name": "python3"
  }
 },
 "nbformat": 4,
 "nbformat_minor": 4
}
