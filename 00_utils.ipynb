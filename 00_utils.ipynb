{
 "cells": [
  {
   "cell_type": "code",
   "execution_count": null,
   "metadata": {},
   "outputs": [],
   "source": [
    "# default_exp utils"
   ]
  },
  {
   "cell_type": "markdown",
   "metadata": {},
   "source": [
    "# Utils\n",
    "\n",
    "> API details."
   ]
  },
  {
   "cell_type": "markdown",
   "metadata": {},
   "source": [
    "## Imports"
   ]
  },
  {
   "cell_type": "code",
   "execution_count": null,
   "metadata": {},
   "outputs": [],
   "source": [
    "#hide\n",
    "from nbdev.showdoc import *"
   ]
  },
  {
   "cell_type": "code",
   "execution_count": null,
   "metadata": {},
   "outputs": [],
   "source": [
    "#export\n",
    "import os\n",
    "import re\n",
    "from functools import partial, wraps\n",
    "from glob import glob\n",
    "from typing import List\n",
    "\n",
    "import dask.array as da\n",
    "import dask.dataframe as dd\n",
    "import numpy as np\n",
    "import pandas as pd\n",
    "import xarray as xr\n",
    "from dask import delayed\n",
    "from dask_image.imread import imread\n",
    "from matplotlib import pyplot as plt\n",
    "from scipy.stats import mode\n",
    "from skimage import measure, segmentation"
   ]
  },
  {
   "cell_type": "code",
   "execution_count": null,
   "metadata": {},
   "outputs": [],
   "source": [
    "#export\n",
    "#slow\n",
    "import pyclesperanto_prototype as cle"
   ]
  },
  {
   "cell_type": "markdown",
   "metadata": {},
   "source": [
    "## Preparing xarray DataArray of images from file path globs"
   ]
  },
  {
   "cell_type": "code",
   "execution_count": null,
   "metadata": {},
   "outputs": [],
   "source": [
    "#export\n",
    "def clean_img_names(img_path_glob: str, img_name_regex: str):\n",
    "    \"\"\"clean_img_names takes a \"globbed\" string pattern, searches\n",
    "    for all files that match the pattern and extracts image names\n",
    "    from each file using a regular expression.\"\"\"\n",
    "    return [\n",
    "        re.findall(img_name_regex, os.path.basename(fn))[0]\n",
    "        for fn in sorted(glob(img_path_glob))\n",
    "    ]"
   ]
  },
  {
   "cell_type": "markdown",
   "metadata": {},
   "source": [
    "An example of clean_img_names:"
   ]
  },
  {
   "cell_type": "code",
   "execution_count": null,
   "metadata": {},
   "outputs": [
    {
     "data": {
      "text/plain": [
       "['feed']"
      ]
     },
     "execution_count": null,
     "metadata": {},
     "output_type": "execute_result"
    }
   ],
   "source": [
    "clean_img_names(\"docs/fe*\", r\"feed\")"
   ]
  },
  {
   "cell_type": "code",
   "execution_count": null,
   "metadata": {},
   "outputs": [],
   "source": [
    "assert clean_img_names(\"docs/fe*\", r\"feed\") == [\"feed\"]"
   ]
  },
  {
   "cell_type": "code",
   "execution_count": null,
   "metadata": {},
   "outputs": [],
   "source": [
    "#export\n",
    "def check_lists_identical(list_of_lists):\n",
    "    list_a = list_of_lists[0]\n",
    "\n",
    "    for l in list_of_lists:\n",
    "        if np.array_equal(l, list_a):\n",
    "            continue\n",
    "        else:\n",
    "            raise ValueError(\"not all lists have same length!\")"
   ]
  },
  {
   "cell_type": "code",
   "execution_count": null,
   "metadata": {},
   "outputs": [],
   "source": [
    "#export\n",
    "def img_path_to_xarr(img_name_regex, pixel_size=0.275, **channel_path_globs):\n",
    "    imgs = list()\n",
    "    channels = list()\n",
    "    img_names = list()\n",
    "\n",
    "    for channel_name, img_path_glob in channel_path_globs.items():\n",
    "        channels.append(channel_name)\n",
    "        imgs.append(imread(img_path_glob))\n",
    "        img_names.append(clean_img_names(img_path_glob, img_name_regex))\n",
    "\n",
    "    check_lists_identical(img_names)\n",
    "    return xr.DataArray(\n",
    "        data=da.stack(imgs),\n",
    "        coords=[\n",
    "            channels,\n",
    "            img_names[0],\n",
    "            np.arange(0, imgs[0].shape[1] * pixel_size, pixel_size),\n",
    "            np.arange(0, imgs[0].shape[2] * pixel_size, pixel_size),\n",
    "        ],\n",
    "        dims=[\"channel\", \"img_name\", \"y\", \"x\"],\n",
    "    )"
   ]
  },
  {
   "cell_type": "code",
   "execution_count": null,
   "metadata": {},
   "outputs": [],
   "source": [
    "#export\n",
    "def last2dims(f):\n",
    "    def func(array):\n",
    "        return f(array[0, 0, ...])[None, None, ...]\n",
    "\n",
    "    return func"
   ]
  },
  {
   "cell_type": "markdown",
   "metadata": {},
   "source": [
    "## Helper functions for regionprops"
   ]
  },
  {
   "cell_type": "code",
   "execution_count": null,
   "metadata": {},
   "outputs": [],
   "source": [
    "#export\n",
    "def extend_region_properties_list(extra_properties: list = None):\n",
    "    properties = [\"label\", \"area\", \"mean_intensity\", \"centroid\"]\n",
    "    if extra_properties is None:\n",
    "        pass\n",
    "    else:\n",
    "        try:\n",
    "            properties = properties + extra_properties\n",
    "        except TypeError:\n",
    "            raise TypeError(\"extra_properties must be a list\")\n",
    "        except Exception as e:\n",
    "            raise e\n",
    "\n",
    "    return properties"
   ]
  },
  {
   "cell_type": "code",
   "execution_count": null,
   "metadata": {},
   "outputs": [],
   "source": [
    "#export\n",
    "def add_scale_regionprops_table_area_measurements(df, pixel_size):\n",
    "    df_with_um2 = (df.filter(regex=r\"area\") * (pixel_size ** 2)).add_suffix(\"_um2\")\n",
    "    return pd.concat([df, df_with_um2], axis=1)"
   ]
  },
  {
   "cell_type": "code",
   "execution_count": null,
   "metadata": {},
   "outputs": [],
   "source": [
    "#export\n",
    "@delayed\n",
    "def lazy_props(seg, img, seg_ch, img_ch, seg_name, img_name, properties, **kwargs):\n",
    "    df = pd.DataFrame(\n",
    "        measure.regionprops_table(seg, img, properties=properties, **kwargs)\n",
    "    )\n",
    "    df[\"seg_channel\"] = seg_ch\n",
    "    df[\"intensity_img_channel\"] = img_ch\n",
    "    df[\"segmentation_img_name\"] = seg_name\n",
    "    df[\"intensity_img_name\"] = img_name\n",
    "    return df"
   ]
  },
  {
   "cell_type": "code",
   "execution_count": null,
   "metadata": {},
   "outputs": [],
   "source": []
  }
 ],
 "metadata": {
  "kernelspec": {
   "display_name": "Python 3 (ipykernel)",
   "language": "python",
   "name": "python3"
  }
 },
 "nbformat": 4,
 "nbformat_minor": 4
}
