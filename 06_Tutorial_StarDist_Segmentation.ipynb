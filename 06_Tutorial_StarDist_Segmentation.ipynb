{
 "cells": [
  {
   "cell_type": "markdown",
   "id": "5d3e23fc-66dc-4a85-8f26-9ecbcfc97696",
   "metadata": {},
   "source": [
    "# Example StarDist Nuclei segmentation "
   ]
  },
  {
   "cell_type": "code",
   "execution_count": null,
   "id": "29eaf1f2-792e-42e8-9e4b-bec7f1dc3fd7",
   "metadata": {},
   "outputs": [],
   "source": [
    "#all_slow\n",
    "import os\n",
    "\n",
    "import dask.array as da\n",
    "import napari\n",
    "import numpy as np\n",
    "import xarray as xr\n",
    "from csbdeep.utils import normalize\n",
    "from dask import delayed\n",
    "from skimage import io\n",
    "from stardist.models import StarDist2D\n",
    "from stardist.plot import render_label\n",
    "import dask\n",
    "\n",
    "from py_clone_detective import utils\n",
    "from py_clone_detective.clone_counters import LazyCloneCounter"
   ]
  },
  {
   "cell_type": "code",
   "execution_count": null,
   "id": "40672dd3-294b-4ded-88cf-a67c89a133f5",
   "metadata": {},
   "outputs": [],
   "source": [
    "foo = LazyCloneCounter(\"trying_stardist\", r\"a\\dg\\d\\d?p\\d\", 0.275)"
   ]
  },
  {
   "cell_type": "code",
   "execution_count": null,
   "id": "af40d987-4bf3-4703-b6ef-bbefc3fc577e",
   "metadata": {},
   "outputs": [],
   "source": [
    "foo.add_images(\n",
    "    C0=\"../current_imaging_analysis/MARCM2A_E7F1_refactoring/C0/C0_imgs/*.tif*\",\n",
    "    C1=\"../current_imaging_analysis/MARCM2A_E7F1_refactoring/C1/C1_imgs/*.tif*\",\n",
    "    C2=\"../current_imaging_analysis/MARCM2A_E7F1_refactoring/C2/C2_imgs/*.tif*\",\n",
    "    C3=\"../current_imaging_analysis/MARCM2A_E7F1_refactoring/C3/C3_imgs/*.tif*\",\n",
    ")"
   ]
  },
  {
   "cell_type": "code",
   "execution_count": null,
   "id": "f04e7064-34a8-48ce-83cb-c51e6d02e556",
   "metadata": {},
   "outputs": [
    {
     "name": "stdout",
     "output_type": "stream",
     "text": [
      "Found model '2D_versatile_fluo' for 'StarDist2D'.\n",
      "Loading network weights from 'weights_best.h5'.\n",
      "Loading thresholds from 'thresholds.json'.\n",
      "Using default values: prob_thresh=0.479071, nms_thresh=0.3.\n"
     ]
    },
    {
     "name": "stderr",
     "output_type": "stream",
     "text": [
      "2021-08-03 09:42:49.228354: I tensorflow/core/platform/cpu_feature_guard.cc:142] This TensorFlow binary is optimized with oneAPI Deep Neural Network Library (oneDNN) to use the following CPU instructions in performance-critical operations:  AVX2 FMA\n",
      "To enable them in other operations, rebuild TensorFlow with the appropriate compiler flags.\n"
     ]
    }
   ],
   "source": [
    "model = StarDist2D.from_pretrained(\"2D_versatile_fluo\")"
   ]
  },
  {
   "cell_type": "code",
   "execution_count": null,
   "id": "0d1571c7-3f67-4f6b-a760-823c6f3f6a81",
   "metadata": {},
   "outputs": [],
   "source": [
    "def map_stardist(img_4d):\n",
    "    img = img_4d[0, 0, ...]\n",
    "    seg = model.predict_instances(normalize(img))[0]\n",
    "    return seg[None, None, ...]"
   ]
  },
  {
   "cell_type": "code",
   "execution_count": null,
   "id": "d5d4b072-dd47-429d-8195-5bc295ca1389",
   "metadata": {},
   "outputs": [],
   "source": [
    "bar = foo.image_data[\"images\"].data.map_blocks(map_stardist, dtype=np.int32)"
   ]
  },
  {
   "cell_type": "code",
   "execution_count": null,
   "id": "15864dd8-5ecd-4d96-9991-06cffa9d529f",
   "metadata": {},
   "outputs": [],
   "source": [
    "labels_xarr = xr.DataArray(\n",
    "    bar, coords=foo.image_data[\"images\"].coords, dims=foo.image_data[\"images\"].dims\n",
    ").rename({\"img_channels\": \"seg_channels\"})"
   ]
  },
  {
   "cell_type": "code",
   "execution_count": null,
   "id": "3dc60d58-8c9a-4fae-bb90-12a30957982b",
   "metadata": {},
   "outputs": [],
   "source": [
    "def save_stardist_seg(xarr_3d, fp):\n",
    "    l = list()\n",
    "    for img in xarr_3d:\n",
    "        l.append(delayed(io.imsave)(\n",
    "            os.path.join(\n",
    "                fp, img.coords[\"img_name\"].values.tolist() + \".tif\"),\n",
    "            img.data,\n",
    "        ))\n",
    "    return l"
   ]
  },
  {
   "cell_type": "code",
   "execution_count": null,
   "id": "ae01a8f3-f0be-4897-8774-8b2f4b047a99",
   "metadata": {},
   "outputs": [],
   "source": [
    "d_saves = save_stardist_seg(labels_xarr[0], \"C0_stardist_segs\")"
   ]
  },
  {
   "cell_type": "code",
   "execution_count": null,
   "id": "e1a28e57-27e3-4336-be06-43b5167f3d6d",
   "metadata": {},
   "outputs": [],
   "source": [
    "dask.compute(d_saves)"
   ]
  },
  {
   "cell_type": "code",
   "execution_count": null,
   "id": "60e0ccfd-d1a9-49b3-9a44-1d8b874132f3",
   "metadata": {},
   "outputs": [
    {
     "data": {
      "text/plain": [
       "['a2g09p2.tif',\n",
       " 'a2g10p3.tif',\n",
       " 'a2g12p1.tif',\n",
       " 'a1g04p1.tif',\n",
       " 'a2g10p2.tif',\n",
       " 'a2g09p3.tif',\n",
       " 'a2g09p1.tif',\n",
       " 'a1g04p3.tif',\n",
       " 'a2g12p2.tif',\n",
       " 'a1g06p1.tif',\n",
       " 'a1g04p2.tif',\n",
       " 'a2g10p1.tif',\n",
       " 'a1g02p1.tif',\n",
       " 'a1g02p3.tif',\n",
       " 'a1g02p2.tif',\n",
       " 'a2g13p2.tif',\n",
       " 'a1g07p1.tif',\n",
       " 'a1g05p3.tif',\n",
       " 'a2g08p1.tif',\n",
       " 'a1g05p2.tif',\n",
       " 'a2g11p1.tif',\n",
       " 'a2g13p3.tif',\n",
       " 'a2g13p1.tif',\n",
       " 'a1g07p2.tif',\n",
       " 'a2g11p3.tif',\n",
       " 'a2g08p2.tif',\n",
       " 'a2g08p3.tif',\n",
       " 'a1g05p1.tif',\n",
       " 'a2g11p2.tif',\n",
       " 'a1g07p3.tif',\n",
       " 'a1g03p3.tif',\n",
       " 'a1g01p1.tif',\n",
       " 'a1g03p2.tif',\n",
       " 'a1g01p2.tif',\n",
       " 'a1g01p3.tif',\n",
       " 'a1g03p1.tif',\n",
       " 'a1g14p2.tif',\n",
       " 'a2g02p2.tif',\n",
       " 'a1g14p1.tif',\n",
       " 'a2g02p1.tif',\n",
       " 'a1g09p1.tif',\n",
       " 'a2g04p3.tif',\n",
       " 'a2g06p1.tif',\n",
       " 'a1g12p2.tif',\n",
       " 'a1g12p3.tif',\n",
       " 'a1g10p1.tif',\n",
       " 'a2g04p2.tif',\n",
       " 'a1g09p2.tif',\n",
       " 'a2g06p2.tif',\n",
       " 'a1g12p1.tif',\n",
       " 'a2g06p3.tif',\n",
       " 'a2g04p1.tif',\n",
       " 'a1g09p3.tif',\n",
       " '.ipynb_checkpoints',\n",
       " 'a2g01p2.tif',\n",
       " 'a1g15p1.tif',\n",
       " 'a2g01p3.tif',\n",
       " 'a2g03p1.tif',\n",
       " 'a2g03p3.tif',\n",
       " 'a2g01p1.tif',\n",
       " 'a1g15p2.tif',\n",
       " 'a1g15p3.tif',\n",
       " 'a2g03p2.tif',\n",
       " 'a2g07p2.tif',\n",
       " 'a1g13p1.tif',\n",
       " 'a1g11p3.tif',\n",
       " 'a1g08p2.tif',\n",
       " 'a1g08p3.tif',\n",
       " 'a1g11p2.tif',\n",
       " 'a2g05p1.tif',\n",
       " 'a2g07p3.tif',\n",
       " 'a2g07p1.tif',\n",
       " 'a2g05p3.tif',\n",
       " 'a1g08p1.tif',\n",
       " 'a1g11p1.tif',\n",
       " 'a2g05p2.tif']"
      ]
     },
     "execution_count": null,
     "metadata": {},
     "output_type": "execute_result"
    }
   ],
   "source": [
    "os.listdir('C0_stardist_segs')"
   ]
  },
  {
   "cell_type": "code",
   "execution_count": null,
   "id": "97723287-1998-4ed5-8df8-9cdd86a7cf37",
   "metadata": {},
   "outputs": [],
   "source": []
  }
 ],
 "metadata": {
  "kernelspec": {
   "display_name": "Python 3 (ipykernel)",
   "language": "python",
   "name": "python3"
  }
 },
 "nbformat": 4,
 "nbformat_minor": 5
}
