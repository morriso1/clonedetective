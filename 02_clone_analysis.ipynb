{
 "cells": [
  {
   "cell_type": "code",
   "execution_count": null,
   "id": "e1fc51c1-e375-47d8-a26f-cfbb2f3e5517",
   "metadata": {},
   "outputs": [],
   "source": [
    "# default_exp clone_analysis"
   ]
  },
  {
   "cell_type": "code",
   "execution_count": null,
   "id": "cc4ad904-2f2e-4272-956b-091cc919dfc5",
   "metadata": {},
   "outputs": [],
   "source": [
    "%load_ext autoreload\n",
    "%autoreload 2"
   ]
  },
  {
   "cell_type": "code",
   "execution_count": null,
   "id": "3208586a-e49c-44c7-b4fe-6589c9fe0ab8",
   "metadata": {},
   "outputs": [],
   "source": [
    "# export\n",
    "from functools import reduce\n",
    "\n",
    "import matplotlib.pyplot as plt\n",
    "import numpy as np\n",
    "import pandas as pd\n",
    "import scikit_posthocs as sp\n",
    "import seaborn as sns"
   ]
  },
  {
   "cell_type": "markdown",
   "id": "4452822d-6eae-4e83-8ed4-c9d652c2ab75",
   "metadata": {},
   "source": [
    "# Clone Analysis Functions"
   ]
  },
  {
   "cell_type": "markdown",
   "id": "dd032b11-e959-41c7-911c-396fe75665a9",
   "metadata": {},
   "source": [
    "## data wrangling functions"
   ]
  },
  {
   "cell_type": "code",
   "execution_count": null,
   "id": "7b511ecd-58b0-4de6-bbc8-c1f0fc2b4c53",
   "metadata": {},
   "outputs": [],
   "source": [
    "# export\n",
    "def _combine_agg_functions(additional_agg_functions):\n",
    "    if additional_agg_functions is None:\n",
    "        additional_agg_functions = {}\n",
    "\n",
    "    agg_functions = {\"label\": \"count\", \"area_um2\": [np.mean, np.std]}\n",
    "    return {**agg_functions, **additional_agg_functions}"
   ]
  },
  {
   "cell_type": "code",
   "execution_count": null,
   "id": "fa8504bf-ab08-459b-83bf-e9c219bd3936",
   "metadata": {},
   "outputs": [],
   "source": [
    "# export\n",
    "def _individual_filter_condition(\n",
    "    df, filtered_col_name: str, query: str, clone_channel: str, agg_functions\n",
    "):\n",
    "    if query is not None:\n",
    "        df = df.query(query)\n",
    "\n",
    "    temp_df = (df.groupby([\"int_img\", clone_channel]).agg(agg_functions)).copy()\n",
    "\n",
    "    temp_df.columns = pd.MultiIndex.from_tuples(\n",
    "        [(filtered_col_name,) + a for a in temp_df.columns]\n",
    "    )\n",
    "    return temp_df"
   ]
  },
  {
   "cell_type": "code",
   "execution_count": null,
   "id": "1f8a3441-ff0c-4ec4-8645-8c4a6818d16c",
   "metadata": {},
   "outputs": [],
   "source": [
    "# export\n",
    "def query_df_groupby_by_clone_channel(\n",
    "    df, queries: dict, clone_channel: str = \"C1\", additional_agg_functions: dict = None,\n",
    "):\n",
    "    \"\"\"additional agg_functions could be something like:\n",
    "    additional_agg_functions = {\"mean_intensity\": [np.mean, np.std]}\"\"\"\n",
    "\n",
    "    agg_functions = _combine_agg_functions(additional_agg_functions)\n",
    "    df = df.reset_index()\n",
    "\n",
    "    l = list()\n",
    "    for key, query in queries.items():\n",
    "        l.append(\n",
    "            _individual_filter_condition(df, key, query, clone_channel, agg_functions)\n",
    "        )\n",
    "\n",
    "    return reduce(\n",
    "        lambda df_left, df_right: pd.merge(\n",
    "            df_left, df_right, how=\"outer\", left_index=True, right_index=True\n",
    "        ),\n",
    "        l,\n",
    "    )"
   ]
  },
  {
   "cell_type": "markdown",
   "id": "80cdccec-47a5-4d6f-9232-15d274cdcf09",
   "metadata": {},
   "source": [
    "## data visualization functions"
   ]
  },
  {
   "cell_type": "code",
   "execution_count": null,
   "id": "5576c5bc-5a68-4137-8f02-c672bfd01b5b",
   "metadata": {},
   "outputs": [],
   "source": [
    "#export\n",
    "def create_stack_bar_plot(\n",
    "    df,\n",
    "    df_error_bar=None,\n",
    "    x_figSize=2.5,\n",
    "    y_figSize=2.5,\n",
    "    y_label=None,\n",
    "    y_axis_start=0,\n",
    "    y_axis_limit=None,\n",
    "    color_pal=sns.color_palette(palette=\"Blues_r\"),\n",
    "    bar_width=0.8,\n",
    "    fp = None\n",
    "):\n",
    "\n",
    "    fig, ax = plt.subplots(figsize=(x_figSize, y_figSize))\n",
    "\n",
    "    sns.set(style=\"ticks\")\n",
    "    sns.despine()\n",
    "\n",
    "    ax = df.plot(\n",
    "        kind=\"bar\",\n",
    "        stacked=True,\n",
    "        color=color_pal,\n",
    "        width=bar_width,\n",
    "        ax=ax,\n",
    "        yerr=df_error_bar,\n",
    "        capsize=4,\n",
    "    )\n",
    "    ax.set_ylabel(y_label, fontsize=12)\n",
    "    sns.despine(ax=ax)\n",
    "    ax.xaxis.set_tick_params(width=1)\n",
    "    ax.yaxis.set_tick_params(width=1)\n",
    "    ax.tick_params(axis=\"both\", which=\"major\", pad=1)\n",
    "    plt.xticks(fontsize=12)\n",
    "    plt.yticks(fontsize=12)\n",
    "    plt.setp(ax.spines.values(), linewidth=1)\n",
    "\n",
    "    if not y_axis_limit == None:\n",
    "        ax.set_ylim(top=y_axis_limit)\n",
    "\n",
    "    handles, labels = ax.get_legend_handles_labels()\n",
    "\n",
    "    ax.legend(\n",
    "        reversed(handles), reversed(labels), bbox_to_anchor=(1, 1), loc=\"upper left\"\n",
    "    )\n",
    "    \n",
    "    if fp is not None:\n",
    "        plt.rcParams[\"pdf.fonttype\"] = 42\n",
    "        plt.rcParams[\"ps.fonttype\"] = 42\n",
    "        \n",
    "        plt.savefig(fp, transparent=True, bbox_inches=\"tight\")"
   ]
  },
  {
   "cell_type": "markdown",
   "id": "538fca34-dbe5-4cc9-a47d-7c63a9ba2f72",
   "metadata": {},
   "source": [
    "## Example using LazyCloneCounter with measure_overlap"
   ]
  },
  {
   "cell_type": "code",
   "execution_count": null,
   "id": "f7af79fd-7417-40aa-aaa3-33530b379e24",
   "metadata": {},
   "outputs": [],
   "source": [
    "from py_clone_detective.clone_counters import LazyCloneCounter, PersistentCloneCounter"
   ]
  },
  {
   "cell_type": "code",
   "execution_count": null,
   "id": "5cca6df1-fc12-483f-91f2-b8e24e6613ff",
   "metadata": {},
   "outputs": [],
   "source": [
    "#hide\n",
    "from dask.distributed import Client\n",
    "c = Client()\n",
    "c"
   ]
  },
  {
   "cell_type": "code",
   "execution_count": null,
   "id": "582d8413-73ea-4785-b136-fc0fbbec58cb",
   "metadata": {},
   "outputs": [],
   "source": [
    "bar = LazyCloneCounter(\"Marcm2a_E7F1\", r\"a\\dg\\d\\dp\\d\", 0.275)\n",
    "\n",
    "bar.add_images(\n",
    "    C0=\"../current_imaging_analysis/MARCM2A_E7F1_refactoring/C0/C0_imgs/*.tif*\",\n",
    "    C1=\"../current_imaging_analysis/MARCM2A_E7F1_refactoring/C1/C1_imgs/*.tif*\",\n",
    "    C2=\"../current_imaging_analysis/MARCM2A_E7F1_refactoring/C2/C2_imgs/*.tif*\",\n",
    "    C3=\"../current_imaging_analysis/MARCM2A_E7F1_refactoring/C3/C3_imgs/*.tif*\",\n",
    ")\n",
    "\n",
    "bar.add_segmentations(\n",
    "    C0=\"../current_imaging_analysis/MARCM2A_E7F1_refactoring/C0/C0_label_imgs_combined_C3/*.tif*\",\n",
    "    C1=\"../current_imaging_analysis/MARCM2A_E7F1_refactoring/C1/C1_binaries/*.tif*\",\n",
    "    C2=\"../current_imaging_analysis/MARCM2A_E7F1_refactoring/C2/C2_label_imgs_v2/*.tif*\",\n",
    "    C3=\"../current_imaging_analysis/MARCM2A_E7F1_refactoring/C3/C3_label_imgs/*.tif*\",\n",
    ")\n",
    "bar.make_measurements(extra_properties=[\"convex_area\"],)\n",
    "bar.measure_overlap()\n",
    "bar.combine_C0_overlaps_and_measurements()"
   ]
  },
  {
   "cell_type": "markdown",
   "id": "70e7be12-a3a4-483c-81e1-0e13d90fb319",
   "metadata": {},
   "source": [
    "## Example using LazyCloneCounter with add_clones_and_neighbouring_labels"
   ]
  },
  {
   "cell_type": "code",
   "execution_count": null,
   "id": "daee1f69-f01b-4185-99fb-4600d96be51c",
   "metadata": {},
   "outputs": [],
   "source": [
    "from skimage import morphology"
   ]
  },
  {
   "cell_type": "code",
   "execution_count": null,
   "id": "71dfeb87-c8e4-4a96-916c-25ae9c5a95ca",
   "metadata": {},
   "outputs": [],
   "source": [
    "exp = LazyCloneCounter(\"Marcm2a_E7F1\", r\"a\\dg\\d\\dp\\d\", 0.275)\n",
    "\n",
    "exp.add_images(\n",
    "    C0=\"../current_imaging_analysis/MARCM2A_E7F1_refactoring/C0/C0_imgs/*.tif*\",\n",
    "    C1=\"../current_imaging_analysis/MARCM2A_E7F1_refactoring/C1/C1_imgs/*.tif*\",\n",
    "    C2=\"../current_imaging_analysis/MARCM2A_E7F1_refactoring/C2/C2_imgs/*.tif*\",\n",
    "    C3=\"../current_imaging_analysis/MARCM2A_E7F1_refactoring/C3/C3_imgs/*.tif*\",\n",
    ")"
   ]
  },
  {
   "cell_type": "code",
   "execution_count": null,
   "id": "6cd3d97d-e832-429a-9999-f5c2d31120ce",
   "metadata": {},
   "outputs": [],
   "source": [
    "exp.add_segmentations(\n",
    "    morphology.remove_small_objects,\n",
    "    ad_func_kwargs={\"min_size\": 49},\n",
    "    C0=\"../current_imaging_analysis/MARCM2A_E7F1_refactoring/C0/C0_label_imgs_combined_C3/*.tif*\",\n",
    ")"
   ]
  },
  {
   "cell_type": "code",
   "execution_count": null,
   "id": "e459878e-4882-4d44-abce-352015a4263b",
   "metadata": {},
   "outputs": [],
   "source": [
    "exp.make_measurements()"
   ]
  },
  {
   "cell_type": "code",
   "execution_count": null,
   "id": "d872a370-9078-41ac-a772-8bcc8642ff50",
   "metadata": {},
   "outputs": [],
   "source": [
    "exp.add_clones_and_neighbouring_labels(\n",
    "    query_for_pd='int_img_ch == \"C1\" & mean_intensity > 1000',\n",
    "    name_for_query=\"C1\",\n",
    "    calc_clones=True,\n",
    ")"
   ]
  },
  {
   "cell_type": "code",
   "execution_count": null,
   "id": "da574c94-b96f-449d-a1f6-a29f79543518",
   "metadata": {},
   "outputs": [],
   "source": [
    "exp.results_measurements = exp.results_measurements.eval(\n",
    "    \"total_intensity = mean_intensity * area\"\n",
    ")\n",
    "\n",
    "exp.add_clones_and_neighbouring_labels(\n",
    "    query_for_pd='int_img_ch == \"C2\" & total_intensity > 5e5',\n",
    "    name_for_query=\"C2\",\n",
    "    calc_clones=False,\n",
    ")\n",
    "\n",
    "exp.add_clones_and_neighbouring_labels(\n",
    "    query_for_pd='int_img_ch == \"C3\" & mean_intensity > 5000',\n",
    "    name_for_query=\"C3\",\n",
    "    calc_clones=False,\n",
    ")"
   ]
  },
  {
   "cell_type": "code",
   "execution_count": null,
   "id": "5e81f9df-9f55-4c91-aac8-50997288c4e3",
   "metadata": {},
   "outputs": [],
   "source": [
    "exp.measure_clones_and_neighbouring_labels(name_for_query=\"C1\")\n",
    "exp.measure_clones_and_neighbouring_labels(name_for_query=\"C2\")\n",
    "exp.measure_clones_and_neighbouring_labels(name_for_query=\"C3\")\n",
    "\n",
    "df = exp.combine_neighbour_counts_and_measurements()"
   ]
  },
  {
   "cell_type": "code",
   "execution_count": null,
   "id": "dc0c12e9-e38e-4fcc-8cad-af6620e0d1ab",
   "metadata": {},
   "outputs": [],
   "source": [
    "df = df[np.invert(df.eval(\"C2_pos == C3_pos == True\"))]"
   ]
  },
  {
   "cell_type": "code",
   "execution_count": null,
   "id": "6d54ec57-ff82-49a6-9a1b-e7f65d556128",
   "metadata": {},
   "outputs": [],
   "source": [
    "grouped_df = query_df_groupby_by_clone_channel(\n",
    "    df.query('int_img_ch == \"C1\"').reset_index(),\n",
    "    queries={\n",
    "        \"Total\": None,\n",
    "        \"C2negC3neg_C0area_less_than_50um2\": \"C2_pos == False & C3_pos == False & area_um2 <= 50\",\n",
    "        \"C2negC3neg_C0area_greater_than_50um2\": \"C2_pos == False & C3_pos == False & area_um2 > 50\",\n",
    "        \"C2_pos_count\": \"C2_pos == True\",\n",
    "        \"C3_pos_count\": \"C3_pos == True\",\n",
    "    },\n",
    "    clone_channel=\"C1_clone\",\n",
    ")"
   ]
  },
  {
   "cell_type": "code",
   "execution_count": null,
   "id": "fc1fd411-c7ed-4d1c-bf72-39964c5fc24a",
   "metadata": {},
   "outputs": [],
   "source": [
    "idx = pd.IndexSlice"
   ]
  },
  {
   "cell_type": "code",
   "execution_count": null,
   "id": "6cb59116-9eb1-465a-80f3-4d009f64388f",
   "metadata": {},
   "outputs": [],
   "source": [
    "grouped_df = (\n",
    "    grouped_df.stack((1, 2))\n",
    "    .loc[idx[:, :, \"label\", \"count\"]]\n",
    "    .reset_index((2, 3), drop=True)\n",
    "    .reset_index()\n",
    ")"
   ]
  },
  {
   "cell_type": "code",
   "execution_count": null,
   "id": "97c91619-e5f7-4463-9307-894a6780fb5d",
   "metadata": {},
   "outputs": [],
   "source": [
    "grouped_df[\"genotype\"] = grouped_df[\"int_img\"].str.extract(r\"(a\\d)\")"
   ]
  },
  {
   "cell_type": "code",
   "execution_count": null,
   "id": "cbbe3d85-931c-4be6-9f5f-2b8f34d368f2",
   "metadata": {},
   "outputs": [],
   "source": [
    "percentage_df = grouped_df.eval(\n",
    "    \"\"\"\n",
    "C2negC3neg_C0area_less_than_50um2 = C2negC3neg_C0area_less_than_50um2 / Total * 100\n",
    "C2negC3neg_C0area_greater_than_50um2 = C2negC3neg_C0area_greater_than_50um2 / Total * 100\n",
    "C2_pos_count = C2_pos_count / Total * 100\n",
    "C3_pos_count = C3_pos_count / Total * 100\n",
    "\"\"\"\n",
    ")"
   ]
  },
  {
   "cell_type": "code",
   "execution_count": null,
   "id": "c22b19ca-9979-4bf7-b882-eeaef6fb6d3f",
   "metadata": {},
   "outputs": [],
   "source": [
    "inside_clone = grouped_df.query(\"C1_clone != 0\")\n",
    "inside_clone_percentage = (\n",
    "    percentage_df.query(\"C1_clone != 0\").fillna(0)\n",
    ")"
   ]
  },
  {
   "cell_type": "code",
   "execution_count": null,
   "id": "b437206f-06c1-4769-9258-102fc25304fe",
   "metadata": {},
   "outputs": [
    {
     "data": {
      "image/png": "[encoded data removed]",
      "text/plain": [
       "<Figure size 108x180 with 1 Axes>"
      ]
     },
     "metadata": {},
     "output_type": "display_data"
    }
   ],
   "source": [
    "create_stack_bar_plot(\n",
    "    inside_clone[\n",
    "        [\n",
    "            \"genotype\",\n",
    "            \"C2negC3neg_C0area_less_than_50um2\",\n",
    "            \"C2negC3neg_C0area_greater_than_50um2\",\n",
    "            \"C2_pos_count\",\n",
    "            \"C3_pos_count\",\n",
    "        ]\n",
    "    ]\n",
    "    .groupby(\"genotype\")\n",
    "    .mean(),\n",
    "    inside_clone[\n",
    "        [\n",
    "            \"genotype\",\n",
    "            \"C2negC3neg_C0area_less_than_50um2\",\n",
    "            \"C2negC3neg_C0area_greater_than_50um2\",\n",
    "            \"C2_pos_count\",\n",
    "            \"C3_pos_count\",\n",
    "        ]\n",
    "    ]\n",
    "    .groupby(\"genotype\")\n",
    "    .sem(),\n",
    "    x_figSize=1.5,\n",
    "    color_pal=[\"#008b68\", \"#539DC2\", \"#F57171\", \"#95a5a6\"],\n",
    "    bar_width=0.8, y_label = \"Cells per clone\",\n",
    "    fp = '../current_imaging_analysis/MARCM2A_E7F1_refactoring/screenshots/number.pdf'\n",
    ")"
   ]
  },
  {
   "cell_type": "code",
   "execution_count": null,
   "id": "23fa481f-ccd1-4531-af5b-e5f560cc77a7",
   "metadata": {},
   "outputs": [
    {
     "data": {
      "text/html": [
       "<div>\n",
       "<style scoped>\n",
       "    .dataframe tbody tr th:only-of-type {\n",
       "        vertical-align: middle;\n",
       "    }\n",
       "\n",
       "    .dataframe tbody tr th {\n",
       "        vertical-align: top;\n",
       "    }\n",
       "\n",
       "    .dataframe thead th {\n",
       "        text-align: right;\n",
       "    }\n",
       "</style>\n",
       "<table border=\"1\" class=\"dataframe\">\n",
       "  <thead>\n",
       "    <tr style=\"text-align: right;\">\n",
       "      <th></th>\n",
       "      <th>a1</th>\n",
       "      <th>a2</th>\n",
       "    </tr>\n",
       "  </thead>\n",
       "  <tbody>\n",
       "    <tr>\n",
       "      <th>a1</th>\n",
       "      <td>1.000000e+00</td>\n",
       "      <td>9.245937e-13</td>\n",
       "    </tr>\n",
       "    <tr>\n",
       "      <th>a2</th>\n",
       "      <td>9.245937e-13</td>\n",
       "      <td>1.000000e+00</td>\n",
       "    </tr>\n",
       "  </tbody>\n",
       "</table>\n",
       "</div>"
      ],
      "text/plain": [
       "              a1            a2\n",
       "a1  1.000000e+00  9.245937e-13\n",
       "a2  9.245937e-13  1.000000e+00"
      ]
     },
     "execution_count": null,
     "metadata": {},
     "output_type": "execute_result"
    }
   ],
   "source": [
    "sp.posthoc_ttest(\n",
    "    inside_clone,\n",
    "    val_col=\"Total\",\n",
    "    group_col=\"genotype\",\n",
    "    pool_sd=True,\n",
    "    p_adjust=\"holm-sidak\",\n",
    ")"
   ]
  },
  {
   "cell_type": "code",
   "execution_count": null,
   "id": "2bf798cc-8406-46cc-aa72-4901d8ac99ef",
   "metadata": {},
   "outputs": [
    {
     "data": {
      "image/png": "[encoded data removed]",
      "text/plain": [
       "<Figure size 108x180 with 1 Axes>"
      ]
     },
     "metadata": {},
     "output_type": "display_data"
    }
   ],
   "source": [
    "create_stack_bar_plot(\n",
    "    inside_clone_percentage[\n",
    "        [ \"genotype\",\n",
    "            \"C2negC3neg_C0area_less_than_50um2\",\n",
    "            \"C2negC3neg_C0area_greater_than_50um2\",\n",
    "            \"C2_pos_count\",\n",
    "            \"C3_pos_count\",\n",
    "        ]\n",
    "    ]\n",
    "    .groupby(\"genotype\")\n",
    "    .mean(),\n",
    "    inside_clone_percentage[\n",
    "        [ \"genotype\",\n",
    "            \"C2negC3neg_C0area_less_than_50um2\",\n",
    "            \"C2negC3neg_C0area_greater_than_50um2\",\n",
    "            \"C2_pos_count\",\n",
    "            \"C3_pos_count\",\n",
    "        ]\n",
    "    ]\n",
    "    .groupby(\"genotype\")\n",
    "    .sem(),\n",
    "    x_figSize=1.5,\n",
    "    color_pal=[\"#008b68\", \"#539DC2\", \"#F57171\", \"#95a5a6\"],\n",
    "    bar_width=0.8,\n",
    "    y_label = 'percentage cell\\nnumber per clone'\n",
    ")"
   ]
  },
  {
   "cell_type": "code",
   "execution_count": null,
   "id": "38cb4b3a-b6e4-4a0b-b0a8-5de0c32568bc",
   "metadata": {},
   "outputs": [
    {
     "data": {
      "text/html": [
       "<div>\n",
       "<style scoped>\n",
       "    .dataframe tbody tr th:only-of-type {\n",
       "        vertical-align: middle;\n",
       "    }\n",
       "\n",
       "    .dataframe tbody tr th {\n",
       "        vertical-align: top;\n",
       "    }\n",
       "\n",
       "    .dataframe thead th {\n",
       "        text-align: right;\n",
       "    }\n",
       "</style>\n",
       "<table border=\"1\" class=\"dataframe\">\n",
       "  <thead>\n",
       "    <tr style=\"text-align: right;\">\n",
       "      <th></th>\n",
       "      <th>a1</th>\n",
       "      <th>a2</th>\n",
       "    </tr>\n",
       "  </thead>\n",
       "  <tbody>\n",
       "    <tr>\n",
       "      <th>a1</th>\n",
       "      <td>1.000000e+00</td>\n",
       "      <td>2.885292e-08</td>\n",
       "    </tr>\n",
       "    <tr>\n",
       "      <th>a2</th>\n",
       "      <td>2.885292e-08</td>\n",
       "      <td>1.000000e+00</td>\n",
       "    </tr>\n",
       "  </tbody>\n",
       "</table>\n",
       "</div>"
      ],
      "text/plain": [
       "              a1            a2\n",
       "a1  1.000000e+00  2.885292e-08\n",
       "a2  2.885292e-08  1.000000e+00"
      ]
     },
     "execution_count": null,
     "metadata": {},
     "output_type": "execute_result"
    }
   ],
   "source": [
    "sp.posthoc_ttest(\n",
    "    inside_clone_percentage,\n",
    "    val_col=\"C2negC3neg_C0area_less_than_50um2\",\n",
    "    group_col=\"genotype\",\n",
    "    pool_sd=True,\n",
    "    p_adjust=\"holm-sidak\",\n",
    ")"
   ]
  },
  {
   "cell_type": "code",
   "execution_count": null,
   "id": "78ada0fd-7fd2-4a97-8ba1-e518cbf31b32",
   "metadata": {},
   "outputs": [],
   "source": []
  },
  {
   "cell_type": "code",
   "execution_count": null,
   "id": "434a7893-b6de-4d43-b79b-2323470477ad",
   "metadata": {},
   "outputs": [],
   "source": []
  }
 ],
 "metadata": {
  "kernelspec": {
   "display_name": "Python 3",
   "language": "python",
   "name": "python3"
  }
 },
 "nbformat": 4,
 "nbformat_minor": 5
}
