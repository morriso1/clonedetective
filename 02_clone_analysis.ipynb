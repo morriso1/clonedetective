{
 "cells": [
  {
   "cell_type": "code",
   "execution_count": null,
   "id": "e1fc51c1-e375-47d8-a26f-cfbb2f3e5517",
   "metadata": {},
   "outputs": [],
   "source": [
    "# default_exp clone_analysis"
   ]
  },
  {
   "cell_type": "code",
   "execution_count": null,
   "id": "cc4ad904-2f2e-4272-956b-091cc919dfc5",
   "metadata": {},
   "outputs": [],
   "source": [
    "%load_ext autoreload\n",
    "%autoreload 2"
   ]
  },
  {
   "cell_type": "code",
   "execution_count": null,
   "id": "3208586a-e49c-44c7-b4fe-6589c9fe0ab8",
   "metadata": {},
   "outputs": [],
   "source": [
    "# export\n",
    "from functools import reduce\n",
    "\n",
    "import matplotlib.pyplot as plt\n",
    "import numpy as np\n",
    "import pandas as pd\n",
    "import seaborn as sns"
   ]
  },
  {
   "cell_type": "markdown",
   "id": "4452822d-6eae-4e83-8ed4-c9d652c2ab75",
   "metadata": {},
   "source": [
    "# Clone Analysis Functions"
   ]
  },
  {
   "cell_type": "markdown",
   "id": "dd032b11-e959-41c7-911c-396fe75665a9",
   "metadata": {},
   "source": [
    "## data wrangling functions"
   ]
  },
  {
   "cell_type": "code",
   "execution_count": null,
   "id": "7b511ecd-58b0-4de6-bbc8-c1f0fc2b4c53",
   "metadata": {},
   "outputs": [],
   "source": [
    "# export\n",
    "def _combine_agg_functions(additional_agg_functions):\n",
    "    if additional_agg_functions is None:\n",
    "        additional_agg_functions = {}\n",
    "\n",
    "    agg_functions = {\"label\": \"count\", \"area_um2\": [np.mean, np.std]}\n",
    "    return {**agg_functions, **additional_agg_functions}"
   ]
  },
  {
   "cell_type": "code",
   "execution_count": null,
   "id": "fa8504bf-ab08-459b-83bf-e9c219bd3936",
   "metadata": {},
   "outputs": [],
   "source": [
    "# export\n",
    "def _individual_filter_condition(\n",
    "    df, filtered_col_name: str, query: str, clone_channel: str, agg_functions\n",
    "):\n",
    "    if query is not None:\n",
    "        df = df.query(query)\n",
    "\n",
    "    temp_df = (df.groupby([\"int_img\", clone_channel]).agg(agg_functions)).copy()\n",
    "\n",
    "    temp_df.columns = pd.MultiIndex.from_tuples(\n",
    "        [(filtered_col_name,) + a for a in temp_df.columns]\n",
    "    )\n",
    "    return temp_df"
   ]
  },
  {
   "cell_type": "code",
   "execution_count": null,
   "id": "1f8a3441-ff0c-4ec4-8645-8c4a6818d16c",
   "metadata": {},
   "outputs": [],
   "source": [
    "# export\n",
    "def query_df_groupby_by_clone_channel(\n",
    "    df, queries: dict, clone_channel: str = \"C1\", additional_agg_functions: dict = None,\n",
    "):\n",
    "    \"\"\"additional agg_functions could be something like:\n",
    "    additional_agg_functions = {\"mean_intensity\": [np.mean, np.std]}\"\"\"\n",
    "\n",
    "    agg_functions = _combine_agg_functions(additional_agg_functions)\n",
    "    df = df.reset_index()\n",
    "\n",
    "    l = list()\n",
    "    for key, query in queries.items():\n",
    "        l.append(\n",
    "            _individual_filter_condition(df, key, query, clone_channel, agg_functions)\n",
    "        )\n",
    "\n",
    "    return reduce(\n",
    "        lambda df_left, df_right: pd.merge(\n",
    "            df_left, df_right, how=\"outer\", left_index=True, right_index=True\n",
    "        ),\n",
    "        l,\n",
    "    )"
   ]
  },
  {
   "cell_type": "markdown",
   "id": "80cdccec-47a5-4d6f-9232-15d274cdcf09",
   "metadata": {},
   "source": [
    "## data visualization functions"
   ]
  },
  {
   "cell_type": "code",
   "execution_count": null,
   "id": "5576c5bc-5a68-4137-8f02-c672bfd01b5b",
   "metadata": {},
   "outputs": [],
   "source": [
    "def create_stack_bar_plot(\n",
    "    df,\n",
    "    df_error_bar=None,\n",
    "    x_figSize=2.5,\n",
    "    y_figSize=2.5,\n",
    "    y_label=None,\n",
    "    y_axis_start=0,\n",
    "    y_axis_limit=None,\n",
    "    color_pal=sns.color_palette(palette=\"Blues_r\"),\n",
    "    bar_width=0.8,\n",
    "):\n",
    "\n",
    "    fig, ax = plt.subplots(figsize=(x_figSize, y_figSize))\n",
    "\n",
    "    sns.set(style=\"ticks\")\n",
    "    sns.despine()\n",
    "\n",
    "    ax = df.plot(\n",
    "        kind=\"bar\",\n",
    "        stacked=True,\n",
    "        color=color_pal,\n",
    "        width=bar_width,\n",
    "        ax=ax,\n",
    "        yerr=df_error_bar,\n",
    "        capsize=4,\n",
    "    )\n",
    "    ax.set_ylabel(y_label, fontsize=12)\n",
    "    sns.despine(ax=ax)\n",
    "    ax.xaxis.set_tick_params(width=1)\n",
    "    ax.yaxis.set_tick_params(width=1)\n",
    "    ax.tick_params(axis=\"both\", which=\"major\", pad=1)\n",
    "    plt.xticks(fontsize=12)\n",
    "    plt.yticks(fontsize=12)\n",
    "    plt.setp(ax.spines.values(), linewidth=1)\n",
    "\n",
    "    if not y_axis_limit == None:\n",
    "        ax.set_ylim(top=y_axis_limit)\n",
    "\n",
    "    handles, labels = ax.get_legend_handles_labels()\n",
    "\n",
    "    ax.legend(\n",
    "        reversed(handles), reversed(labels), bbox_to_anchor=(1, 1), loc=\"upper left\"\n",
    "    )"
   ]
  },
  {
   "cell_type": "code",
   "execution_count": null,
   "id": "7fa4237e-42bb-4933-ab70-ff0ff704223d",
   "metadata": {},
   "outputs": [],
   "source": []
  },
  {
   "cell_type": "code",
   "execution_count": null,
   "id": "fa814000-8dfd-430c-9324-c4936248be76",
   "metadata": {},
   "outputs": [],
   "source": []
  },
  {
   "cell_type": "code",
   "execution_count": null,
   "id": "f7af79fd-7417-40aa-aaa3-33530b379e24",
   "metadata": {},
   "outputs": [],
   "source": [
    "from dask.distributed import Client\n",
    "\n",
    "from py_clone_detective.clone_counters import LazyCloneCounter"
   ]
  },
  {
   "cell_type": "code",
   "execution_count": null,
   "id": "5cca6df1-fc12-483f-91f2-b8e24e6613ff",
   "metadata": {},
   "outputs": [
    {
     "data": {
      "text/html": [
       "\n",
       "            <div>\n",
       "                <div style=\"\n",
       "                    width: 24px;\n",
       "                    height: 24px;\n",
       "                    background-color: #e1e1e1;\n",
       "                    border: 3px solid #9D9D9D;\n",
       "                    border-radius: 5px;\n",
       "                    position: absolute;\"> </div>\n",
       "                <div style=\"margin-left: 48px;\">\n",
       "                    <h3 style=\"margin-bottom: 0px;\">Client</h3>\n",
       "                    <p style=\"color: #9D9D9D; margin-bottom: 0px;\">Client-405f95ca-f856-11eb-a35e-acde48001122</p>\n",
       "                    <table style=\"width: 100%; text-align: left;\">\n",
       "                    \n",
       "                <tr>\n",
       "                    <td style=\"text-align: left;\"><strong>Connection method:</strong> Cluster object</td>\n",
       "                    <td style=\"text-align: left;\"><strong>Cluster type:</strong> LocalCluster</td>\n",
       "                </tr>\n",
       "                \n",
       "                <tr>\n",
       "                    <td style=\"text-align: left;\">\n",
       "                        <strong>Dashboard: </strong>\n",
       "                        <a href=\"http://127.0.0.1:8787/status\">http://127.0.0.1:8787/status</a>\n",
       "                    </td>\n",
       "                    <td style=\"text-align: left;\"></td>\n",
       "                </tr>\n",
       "                \n",
       "                    </table>\n",
       "                    \n",
       "                <details>\n",
       "                <summary style=\"margin-bottom: 20px;\"><h3 style=\"display: inline;\">Cluster Info</h3></summary>\n",
       "                \n",
       "            <div class=\"jp-RenderedHTMLCommon jp-RenderedHTML jp-mod-trusted jp-OutputArea-output\">\n",
       "                <div style=\"\n",
       "                    width: 24px;\n",
       "                    height: 24px;\n",
       "                    background-color: #e1e1e1;\n",
       "                    border: 3px solid #9D9D9D;\n",
       "                    border-radius: 5px;\n",
       "                    position: absolute;\"> </div>\n",
       "                <div style=\"margin-left: 48px;\">\n",
       "                    <h3 style=\"margin-bottom: 0px; margin-top: 0px;\">LocalCluster</h3>\n",
       "                    <p style=\"color: #9D9D9D; margin-bottom: 0px;\">7fa77106</p>\n",
       "                    <table style=\"width: 100%; text-align: left;\">\n",
       "                    \n",
       "            <tr>\n",
       "                <td style=\"text-align: left;\"><strong>Status:</strong> running</td>\n",
       "                <td style=\"text-align: left;\"><strong>Using processes:</strong> True</td>\n",
       "            </tr>\n",
       "        \n",
       "            <tr>\n",
       "                <td style=\"text-align: left;\">\n",
       "                    <strong>Dashboard:</strong> <a href=\"http://127.0.0.1:8787/status\">http://127.0.0.1:8787/status</a>\n",
       "                </td>\n",
       "                <td style=\"text-align: left;\"><strong>Workers:</strong> 4</td>\n",
       "            </tr>\n",
       "            <tr>\n",
       "                <td style=\"text-align: left;\">\n",
       "                    <strong>Total threads:</strong>\n",
       "                    8\n",
       "                </td>\n",
       "                <td style=\"text-align: left;\">\n",
       "                    <strong>Total memory:</strong>\n",
       "                    8.00 GiB\n",
       "                </td>\n",
       "            </tr>\n",
       "        \n",
       "                    </table>\n",
       "                    <details>\n",
       "                    <summary style=\"margin-bottom: 20px;\"><h3 style=\"display: inline;\">Scheduler Info</h3></summary>\n",
       "                    \n",
       "        <div style=\"\">\n",
       "            \n",
       "            <div>\n",
       "                <div style=\"\n",
       "                    width: 24px;\n",
       "                    height: 24px;\n",
       "                    background-color: #FFF7E5;\n",
       "                    border: 3px solid #FF6132;\n",
       "                    border-radius: 5px;\n",
       "                    position: absolute;\"> </div>\n",
       "                <div style=\"margin-left: 48px;\">\n",
       "                    <h3 style=\"margin-bottom: 0px;\">Scheduler</h3>\n",
       "                    <p style=\"color: #9D9D9D; margin-bottom: 0px;\">Scheduler-9e0a7b29-d658-4aea-9ef4-3c8b29586404</p>\n",
       "                    <table style=\"width: 100%; text-align: left;\">\n",
       "                        <tr>\n",
       "                            <td style=\"text-align: left;\"><strong>Comm:</strong> tcp://127.0.0.1:56460</td>\n",
       "                            <td style=\"text-align: left;\"><strong>Workers:</strong> 4</td>\n",
       "                        </tr>\n",
       "                        <tr>\n",
       "                            <td style=\"text-align: left;\">\n",
       "                                <strong>Dashboard:</strong> <a href=\"http://127.0.0.1:8787/status\">http://127.0.0.1:8787/status</a>\n",
       "                            </td>\n",
       "                            <td style=\"text-align: left;\">\n",
       "                                <strong>Total threads:</strong>\n",
       "                                8\n",
       "                            </td>\n",
       "                        </tr>\n",
       "                        <tr>\n",
       "                            <td style=\"text-align: left;\">\n",
       "                                <strong>Started:</strong>\n",
       "                                Just now\n",
       "                            </td>\n",
       "                            <td style=\"text-align: left;\">\n",
       "                                <strong>Total memory:</strong>\n",
       "                                8.00 GiB\n",
       "                            </td>\n",
       "                        </tr>\n",
       "                    </table>\n",
       "                </div>\n",
       "            </div>\n",
       "        \n",
       "            <details style=\"margin-left: 48px;\">\n",
       "            <summary style=\"margin-bottom: 20px;\"><h3 style=\"display: inline;\">Workers</h3></summary>\n",
       "            \n",
       "            <div style=\"margin-bottom: 20px;\">\n",
       "                <div style=\"width: 24px;\n",
       "                            height: 24px;\n",
       "                            background-color: #DBF5FF;\n",
       "                            border: 3px solid #4CC9FF;\n",
       "                            border-radius: 5px;\n",
       "                            position: absolute;\"> </div>\n",
       "                <div style=\"margin-left: 48px;\">\n",
       "                <details>\n",
       "                    <summary>\n",
       "                        <h4 style=\"margin-bottom: 0px; display: inline;\">Worker: 0</h4>\n",
       "                    </summary>\n",
       "                    <table style=\"width: 100%; text-align: left;\">\n",
       "                        <tr>\n",
       "                            <td style=\"text-align: left;\"><strong>Comm: </strong> tcp://127.0.0.1:56469</td>\n",
       "                            <td style=\"text-align: left;\"><strong>Total threads: </strong> 2</td>\n",
       "                        </tr>\n",
       "                        <tr>\n",
       "                            <td style=\"text-align: left;\">\n",
       "                                <strong>Dashboard: </strong>\n",
       "                                <a href=\"http://127.0.0.1:56471/status\">http://127.0.0.1:56471/status</a>\n",
       "                            </td>\n",
       "                            <td style=\"text-align: left;\">\n",
       "                                <strong>Memory: </strong>\n",
       "                                2.00 GiB\n",
       "                            </td>\n",
       "                        </tr>\n",
       "                        <tr>\n",
       "                            <td style=\"text-align: left;\"><strong>Nanny: </strong> tcp://127.0.0.1:56463</td>\n",
       "                            <td style=\"text-align: left;\"></td>\n",
       "                        </tr>\n",
       "                        <tr>\n",
       "                            <td colspan=\"2\" style=\"text-align: left;\">\n",
       "                                <strong>Local directory: </strong>\n",
       "                                /Users/ottomorris/Documents/py_clone_detective/dask-worker-space/worker-r3x28s5x\n",
       "                            </td>\n",
       "                        </tr>\n",
       "                        \n",
       "                        \n",
       "                    </table>\n",
       "                </details>\n",
       "                </div>\n",
       "            </div>\n",
       "            \n",
       "            <div style=\"margin-bottom: 20px;\">\n",
       "                <div style=\"width: 24px;\n",
       "                            height: 24px;\n",
       "                            background-color: #DBF5FF;\n",
       "                            border: 3px solid #4CC9FF;\n",
       "                            border-radius: 5px;\n",
       "                            position: absolute;\"> </div>\n",
       "                <div style=\"margin-left: 48px;\">\n",
       "                <details>\n",
       "                    <summary>\n",
       "                        <h4 style=\"margin-bottom: 0px; display: inline;\">Worker: 1</h4>\n",
       "                    </summary>\n",
       "                    <table style=\"width: 100%; text-align: left;\">\n",
       "                        <tr>\n",
       "                            <td style=\"text-align: left;\"><strong>Comm: </strong> tcp://127.0.0.1:56475</td>\n",
       "                            <td style=\"text-align: left;\"><strong>Total threads: </strong> 2</td>\n",
       "                        </tr>\n",
       "                        <tr>\n",
       "                            <td style=\"text-align: left;\">\n",
       "                                <strong>Dashboard: </strong>\n",
       "                                <a href=\"http://127.0.0.1:56476/status\">http://127.0.0.1:56476/status</a>\n",
       "                            </td>\n",
       "                            <td style=\"text-align: left;\">\n",
       "                                <strong>Memory: </strong>\n",
       "                                2.00 GiB\n",
       "                            </td>\n",
       "                        </tr>\n",
       "                        <tr>\n",
       "                            <td style=\"text-align: left;\"><strong>Nanny: </strong> tcp://127.0.0.1:56465</td>\n",
       "                            <td style=\"text-align: left;\"></td>\n",
       "                        </tr>\n",
       "                        <tr>\n",
       "                            <td colspan=\"2\" style=\"text-align: left;\">\n",
       "                                <strong>Local directory: </strong>\n",
       "                                /Users/ottomorris/Documents/py_clone_detective/dask-worker-space/worker-0nh62xuj\n",
       "                            </td>\n",
       "                        </tr>\n",
       "                        \n",
       "                        \n",
       "                    </table>\n",
       "                </details>\n",
       "                </div>\n",
       "            </div>\n",
       "            \n",
       "            <div style=\"margin-bottom: 20px;\">\n",
       "                <div style=\"width: 24px;\n",
       "                            height: 24px;\n",
       "                            background-color: #DBF5FF;\n",
       "                            border: 3px solid #4CC9FF;\n",
       "                            border-radius: 5px;\n",
       "                            position: absolute;\"> </div>\n",
       "                <div style=\"margin-left: 48px;\">\n",
       "                <details>\n",
       "                    <summary>\n",
       "                        <h4 style=\"margin-bottom: 0px; display: inline;\">Worker: 2</h4>\n",
       "                    </summary>\n",
       "                    <table style=\"width: 100%; text-align: left;\">\n",
       "                        <tr>\n",
       "                            <td style=\"text-align: left;\"><strong>Comm: </strong> tcp://127.0.0.1:56466</td>\n",
       "                            <td style=\"text-align: left;\"><strong>Total threads: </strong> 2</td>\n",
       "                        </tr>\n",
       "                        <tr>\n",
       "                            <td style=\"text-align: left;\">\n",
       "                                <strong>Dashboard: </strong>\n",
       "                                <a href=\"http://127.0.0.1:56467/status\">http://127.0.0.1:56467/status</a>\n",
       "                            </td>\n",
       "                            <td style=\"text-align: left;\">\n",
       "                                <strong>Memory: </strong>\n",
       "                                2.00 GiB\n",
       "                            </td>\n",
       "                        </tr>\n",
       "                        <tr>\n",
       "                            <td style=\"text-align: left;\"><strong>Nanny: </strong> tcp://127.0.0.1:56462</td>\n",
       "                            <td style=\"text-align: left;\"></td>\n",
       "                        </tr>\n",
       "                        <tr>\n",
       "                            <td colspan=\"2\" style=\"text-align: left;\">\n",
       "                                <strong>Local directory: </strong>\n",
       "                                /Users/ottomorris/Documents/py_clone_detective/dask-worker-space/worker-18ii3obt\n",
       "                            </td>\n",
       "                        </tr>\n",
       "                        \n",
       "                        \n",
       "                    </table>\n",
       "                </details>\n",
       "                </div>\n",
       "            </div>\n",
       "            \n",
       "            <div style=\"margin-bottom: 20px;\">\n",
       "                <div style=\"width: 24px;\n",
       "                            height: 24px;\n",
       "                            background-color: #DBF5FF;\n",
       "                            border: 3px solid #4CC9FF;\n",
       "                            border-radius: 5px;\n",
       "                            position: absolute;\"> </div>\n",
       "                <div style=\"margin-left: 48px;\">\n",
       "                <details>\n",
       "                    <summary>\n",
       "                        <h4 style=\"margin-bottom: 0px; display: inline;\">Worker: 3</h4>\n",
       "                    </summary>\n",
       "                    <table style=\"width: 100%; text-align: left;\">\n",
       "                        <tr>\n",
       "                            <td style=\"text-align: left;\"><strong>Comm: </strong> tcp://127.0.0.1:56470</td>\n",
       "                            <td style=\"text-align: left;\"><strong>Total threads: </strong> 2</td>\n",
       "                        </tr>\n",
       "                        <tr>\n",
       "                            <td style=\"text-align: left;\">\n",
       "                                <strong>Dashboard: </strong>\n",
       "                                <a href=\"http://127.0.0.1:56473/status\">http://127.0.0.1:56473/status</a>\n",
       "                            </td>\n",
       "                            <td style=\"text-align: left;\">\n",
       "                                <strong>Memory: </strong>\n",
       "                                2.00 GiB\n",
       "                            </td>\n",
       "                        </tr>\n",
       "                        <tr>\n",
       "                            <td style=\"text-align: left;\"><strong>Nanny: </strong> tcp://127.0.0.1:56464</td>\n",
       "                            <td style=\"text-align: left;\"></td>\n",
       "                        </tr>\n",
       "                        <tr>\n",
       "                            <td colspan=\"2\" style=\"text-align: left;\">\n",
       "                                <strong>Local directory: </strong>\n",
       "                                /Users/ottomorris/Documents/py_clone_detective/dask-worker-space/worker-vs63df9m\n",
       "                            </td>\n",
       "                        </tr>\n",
       "                        \n",
       "                        \n",
       "                    </table>\n",
       "                </details>\n",
       "                </div>\n",
       "            </div>\n",
       "            \n",
       "            </details>\n",
       "        </div>\n",
       "        \n",
       "                    </details>\n",
       "                </div>\n",
       "            </div>\n",
       "        \n",
       "                </details>\n",
       "                \n",
       "                </div>\n",
       "            </div>\n",
       "        "
      ],
      "text/plain": [
       "<Client: 'tcp://127.0.0.1:56460' processes=4 threads=8, memory=8.00 GiB>"
      ]
     },
     "execution_count": null,
     "metadata": {},
     "output_type": "execute_result"
    }
   ],
   "source": [
    "c = Client()\n",
    "c"
   ]
  },
  {
   "cell_type": "markdown",
   "id": "538fca34-dbe5-4cc9-a47d-7c63a9ba2f72",
   "metadata": {},
   "source": [
    "## Example using LazyCloneCounter with measure_overlap"
   ]
  },
  {
   "cell_type": "code",
   "execution_count": null,
   "id": "582d8413-73ea-4785-b136-fc0fbbec58cb",
   "metadata": {},
   "outputs": [],
   "source": [
    "bar = LazyCloneCounter(\"Marcm2a_E7F1\", r\"a\\dg\\d\\dp\\d\", 0.275)\n",
    "\n",
    "bar.add_images(\n",
    "    C0=\"../current_imaging_analysis/MARCM2A_E7F1_refactoring/C0/C0_imgs/*.tif*\",\n",
    "    C1=\"../current_imaging_analysis/MARCM2A_E7F1_refactoring/C1/C1_imgs/*.tif*\",\n",
    "    C2=\"../current_imaging_analysis/MARCM2A_E7F1_refactoring/C2/C2_imgs/*.tif*\",\n",
    "    C3=\"../current_imaging_analysis/MARCM2A_E7F1_refactoring/C3/C3_imgs/*.tif*\",\n",
    ")\n",
    "\n",
    "bar.add_segmentations(\n",
    "    C0=\"../current_imaging_analysis/MARCM2A_E7F1_refactoring/C0/C0_label_imgs_combined_C3/*.tif*\",\n",
    "    C1=\"../current_imaging_analysis/MARCM2A_E7F1_refactoring/C1/C1_binaries/*.tif*\",\n",
    "    C2=\"../current_imaging_analysis/MARCM2A_E7F1_refactoring/C2/C2_label_imgs_v2/*.tif*\",\n",
    "    C3=\"../current_imaging_analysis/MARCM2A_E7F1_refactoring/C3/C3_label_imgs/*.tif*\",\n",
    ")\n",
    "bar.make_measurements(extra_properties=[\"convex_area\"],)\n",
    "bar.measure_overlap()\n",
    "bar.combine_C0_overlaps_and_measurements()"
   ]
  },
  {
   "cell_type": "markdown",
   "id": "70e7be12-a3a4-483c-81e1-0e13d90fb319",
   "metadata": {},
   "source": [
    "## Example using LazyCloneCounter with add_clones_and_neighbouring_labels"
   ]
  },
  {
   "cell_type": "code",
   "execution_count": null,
   "id": "daee1f69-f01b-4185-99fb-4600d96be51c",
   "metadata": {},
   "outputs": [],
   "source": [
    "from skimage import morphology"
   ]
  },
  {
   "cell_type": "code",
   "execution_count": null,
   "id": "71dfeb87-c8e4-4a96-916c-25ae9c5a95ca",
   "metadata": {},
   "outputs": [],
   "source": [
    "foo = LazyCloneCounter(\"Marcm2a_E7F1\", r\"a\\dg\\d\\dp\\d\", 0.275)\n",
    "\n",
    "foo.add_images(\n",
    "    C0=\"../current_imaging_analysis/MARCM2A_E7F1_refactoring/C0/C0_imgs/*.tif*\",\n",
    "    C1=\"../current_imaging_analysis/MARCM2A_E7F1_refactoring/C1/C1_imgs/*.tif*\",\n",
    "    C2=\"../current_imaging_analysis/MARCM2A_E7F1_refactoring/C2/C2_imgs/*.tif*\",\n",
    "    C3=\"../current_imaging_analysis/MARCM2A_E7F1_refactoring/C3/C3_imgs/*.tif*\",\n",
    ")"
   ]
  },
  {
   "cell_type": "code",
   "execution_count": null,
   "id": "6cd3d97d-e832-429a-9999-f5c2d31120ce",
   "metadata": {},
   "outputs": [],
   "source": [
    "foo.add_segmentations(\n",
    "    morphology.remove_small_objects,\n",
    "    ad_func_kwargs={\"min_size\": 49},\n",
    "    C0=\"../current_imaging_analysis/MARCM2A_E7F1_refactoring/C0/C0_label_imgs_combined_C3/*.tif*\",\n",
    ")"
   ]
  },
  {
   "cell_type": "code",
   "execution_count": null,
   "id": "e459878e-4882-4d44-abce-352015a4263b",
   "metadata": {},
   "outputs": [],
   "source": [
    "foo.make_measurements()"
   ]
  },
  {
   "cell_type": "code",
   "execution_count": null,
   "id": "d872a370-9078-41ac-a772-8bcc8642ff50",
   "metadata": {},
   "outputs": [],
   "source": [
    "foo.add_clones_and_neighbouring_labels(\n",
    "    query_for_pd='int_img_ch == \"C1\" & mean_intensity > 1000',\n",
    "    name_for_query=\"C1\",\n",
    "    calc_clones=True,\n",
    ")"
   ]
  },
  {
   "cell_type": "code",
   "execution_count": null,
   "id": "da574c94-b96f-449d-a1f6-a29f79543518",
   "metadata": {},
   "outputs": [],
   "source": [
    "foo.results_measurements = foo.results_measurements.eval(\n",
    "    \"total_intensity = mean_intensity * area\"\n",
    ")"
   ]
  },
  {
   "cell_type": "code",
   "execution_count": null,
   "id": "ea9e6fcf-a45c-4684-89d7-6bbf4f549c9b",
   "metadata": {},
   "outputs": [],
   "source": [
    "foo.add_clones_and_neighbouring_labels(\n",
    "    query_for_pd='int_img_ch == \"C2\" & total_intensity > 5e5',\n",
    "    name_for_query=\"C2\",\n",
    "    calc_clones=False,\n",
    ")"
   ]
  },
  {
   "cell_type": "code",
   "execution_count": null,
   "id": "156d881c-c6dc-491a-b4cc-b3e5d1730de3",
   "metadata": {},
   "outputs": [],
   "source": [
    "foo.add_clones_and_neighbouring_labels(\n",
    "    query_for_pd='int_img_ch == \"C3\" & mean_intensity > 5000',\n",
    "    name_for_query=\"C3\",\n",
    "    calc_clones=False,\n",
    ")"
   ]
  },
  {
   "cell_type": "code",
   "execution_count": null,
   "id": "5e81f9df-9f55-4c91-aac8-50997288c4e3",
   "metadata": {},
   "outputs": [],
   "source": [
    "foo.measure_clones_and_neighbouring_labels(name_for_query=\"C1\")\n",
    "foo.measure_clones_and_neighbouring_labels(name_for_query=\"C2\")\n",
    "foo.measure_clones_and_neighbouring_labels(name_for_query=\"C3\")\n",
    "\n",
    "df = foo.combine_neighbour_counts_and_measurements()"
   ]
  },
  {
   "cell_type": "code",
   "execution_count": null,
   "id": "dc0c12e9-e38e-4fcc-8cad-af6620e0d1ab",
   "metadata": {},
   "outputs": [],
   "source": [
    "df = df[np.invert(df.eval('C2_pos == C3_pos == True'))]"
   ]
  },
  {
   "cell_type": "code",
   "execution_count": null,
   "id": "6d54ec57-ff82-49a6-9a1b-e7f65d556128",
   "metadata": {},
   "outputs": [],
   "source": [
    "grouped_df = query_df_groupby_by_clone_channel(\n",
    "    df.query('int_img_ch == \"C1\"').reset_index(),\n",
    "    queries={\n",
    "        \"Total\": None,\n",
    "        \"C2negC3neg_C0area_less_than_50um2\": \"C2_pos == False & C3_pos == False & area_um2 <= 50\",\n",
    "        \"C2negC3neg_C0area_greater_than_50um2\": \"C2_pos == False & C3_pos == False & area_um2 > 50\",\n",
    "        \"C2_pos_count\": \"C2_pos == True\",\n",
    "        \"C3_pos_count\": \"C3_pos == True\",\n",
    "    },\n",
    "    clone_channel=\"C1_clone\",\n",
    ")"
   ]
  },
  {
   "cell_type": "code",
   "execution_count": null,
   "id": "fc1fd411-c7ed-4d1c-bf72-39964c5fc24a",
   "metadata": {},
   "outputs": [],
   "source": [
    "idx = pd.IndexSlice"
   ]
  },
  {
   "cell_type": "code",
   "execution_count": null,
   "id": "6cb59116-9eb1-465a-80f3-4d009f64388f",
   "metadata": {},
   "outputs": [],
   "source": [
    "grouped_df = (\n",
    "    grouped_df.stack((1, 2))\n",
    "    .loc[idx[:, :, \"label\", \"count\"]]\n",
    "    .reset_index((2, 3), drop=True)\n",
    "    .reset_index()\n",
    ")"
   ]
  },
  {
   "cell_type": "code",
   "execution_count": null,
   "id": "97c91619-e5f7-4463-9307-894a6780fb5d",
   "metadata": {},
   "outputs": [],
   "source": [
    "grouped_df[\"genotype\"] = grouped_df[\"int_img\"].str.extract(r\"(a\\d)\")"
   ]
  },
  {
   "cell_type": "code",
   "execution_count": null,
   "id": "cbbe3d85-931c-4be6-9f5f-2b8f34d368f2",
   "metadata": {},
   "outputs": [],
   "source": [
    "percentage_df = grouped_df.eval(\n",
    "    \"\"\"\n",
    "C2negC3neg_C0area_less_than_50um2 = C2negC3neg_C0area_less_than_50um2 / Total * 100\n",
    "C2negC3neg_C0area_greater_than_50um2 = C2negC3neg_C0area_greater_than_50um2 / Total * 100\n",
    "C2_pos_count = C2_pos_count / Total * 100\n",
    "C3_pos_count = C3_pos_count / Total * 100\n",
    "\"\"\"\n",
    ")"
   ]
  },
  {
   "cell_type": "code",
   "execution_count": null,
   "id": "c22b19ca-9979-4bf7-b882-eeaef6fb6d3f",
   "metadata": {},
   "outputs": [],
   "source": [
    "inside_clone = grouped_df.query(\"C1_clone != 0\").drop(columns=[\"Total\", \"C1_clone\"])\n",
    "inside_clone_percentage = percentage_df.query(\"C1_clone != 0\").drop(columns = [\"Total\"]).fillna(0)"
   ]
  },
  {
   "cell_type": "code",
   "execution_count": null,
   "id": "b437206f-06c1-4769-9258-102fc25304fe",
   "metadata": {},
   "outputs": [
    {
     "data": {
      "image/png": "[encoded data removed]",
      "text/plain": [
       "<Figure size 108x180 with 1 Axes>"
      ]
     },
     "metadata": {},
     "output_type": "display_data"
    }
   ],
   "source": [
    "create_stack_bar_plot(\n",
    "    inside_clone.groupby(\"genotype\").mean(),\n",
    "    inside_clone.groupby(\"genotype\").sem(),\n",
    "    x_figSize=1.5,\n",
    "    color_pal=[\"#008b68\", \"#539DC2\", \"#F57171\", \"#95a5a6\"],\n",
    "    bar_width=0.8,\n",
    ")"
   ]
  },
  {
   "cell_type": "code",
   "execution_count": null,
   "id": "2bf798cc-8406-46cc-aa72-4901d8ac99ef",
   "metadata": {},
   "outputs": [
    {
     "data": {
      "image/png": "[encoded data removed]",
      "text/plain": [
       "<Figure size 108x180 with 1 Axes>"
      ]
     },
     "metadata": {},
     "output_type": "display_data"
    }
   ],
   "source": [
    "create_stack_bar_plot(\n",
    "    inside_clone_percentage.groupby(\"genotype\").mean(),\n",
    "    inside_clone_percentage.groupby(\"genotype\").sem(),\n",
    "    x_figSize=1.5,\n",
    "    color_pal=[\"#008b68\", \"#539DC2\", \"#F57171\", \"#95a5a6\"],\n",
    "    bar_width=0.8,\n",
    ")"
   ]
  },
  {
   "cell_type": "code",
   "execution_count": null,
   "id": "78ada0fd-7fd2-4a97-8ba1-e518cbf31b32",
   "metadata": {},
   "outputs": [],
   "source": []
  },
  {
   "cell_type": "code",
   "execution_count": null,
   "id": "434a7893-b6de-4d43-b79b-2323470477ad",
   "metadata": {},
   "outputs": [],
   "source": []
  }
 ],
 "metadata": {
  "kernelspec": {
   "display_name": "Python 3",
   "language": "python",
   "name": "python3"
  }
 },
 "nbformat": 4,
 "nbformat_minor": 5
}
