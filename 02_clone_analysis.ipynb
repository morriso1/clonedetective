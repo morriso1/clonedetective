{
 "cells": [
  {
   "cell_type": "code",
   "execution_count": null,
   "id": "e1fc51c1-e375-47d8-a26f-cfbb2f3e5517",
   "metadata": {},
   "outputs": [],
   "source": [
    "# default_exp clone_analysis"
   ]
  },
  {
   "cell_type": "code",
   "execution_count": null,
   "id": "cc4ad904-2f2e-4272-956b-091cc919dfc5",
   "metadata": {},
   "outputs": [],
   "source": [
    "# hide\n",
    "%load_ext autoreload\n",
    "%autoreload 2"
   ]
  },
  {
   "cell_type": "code",
   "execution_count": null,
   "id": "3208586a-e49c-44c7-b4fe-6589c9fe0ab8",
   "metadata": {},
   "outputs": [],
   "source": [
    "# export\n",
    "from functools import reduce\n",
    "\n",
    "import matplotlib.pyplot as plt\n",
    "import numpy as np\n",
    "import pandas as pd\n",
    "import seaborn as sns"
   ]
  },
  {
   "cell_type": "markdown",
   "id": "4452822d-6eae-4e83-8ed4-c9d652c2ab75",
   "metadata": {},
   "source": [
    "# Clone Analysis Functions"
   ]
  },
  {
   "cell_type": "markdown",
   "id": "dd032b11-e959-41c7-911c-396fe75665a9",
   "metadata": {},
   "source": [
    "## data wrangling functions"
   ]
  },
  {
   "cell_type": "code",
   "execution_count": null,
   "id": "7b511ecd-58b0-4de6-bbc8-c1f0fc2b4c53",
   "metadata": {},
   "outputs": [],
   "source": [
    "# export\n",
    "def _combine_agg_functions(additional_agg_functions):\n",
    "    if additional_agg_functions is None:\n",
    "        additional_agg_functions = {}\n",
    "\n",
    "    agg_functions = {\"label\": \"count\", \"area_um2\": [np.mean, np.std]}\n",
    "    return {**agg_functions, **additional_agg_functions}"
   ]
  },
  {
   "cell_type": "code",
   "execution_count": null,
   "id": "fa8504bf-ab08-459b-83bf-e9c219bd3936",
   "metadata": {},
   "outputs": [],
   "source": [
    "# export\n",
    "def _individual_filter_condition(\n",
    "    df, filtered_col_name: str, query: str, clone_channel: str, agg_functions\n",
    "):\n",
    "    if query is not None:\n",
    "        df = df.query(query)\n",
    "\n",
    "    temp_df = (df.groupby([\"int_img\", clone_channel]).agg(agg_functions)).copy()\n",
    "\n",
    "    temp_df.columns = pd.MultiIndex.from_tuples(\n",
    "        [(filtered_col_name,) + a for a in temp_df.columns]\n",
    "    )\n",
    "    return temp_df"
   ]
  },
  {
   "cell_type": "code",
   "execution_count": null,
   "id": "1f8a3441-ff0c-4ec4-8645-8c4a6818d16c",
   "metadata": {},
   "outputs": [],
   "source": [
    "# export\n",
    "def query_df_groupby_by_clone_channel(\n",
    "    df, queries: dict, clone_channel: str = \"C1\", additional_agg_functions: dict = None,\n",
    "):\n",
    "    \"\"\"additional agg_functions could be something like:\n",
    "    additional_agg_functions = {\"mean_intensity\": [np.mean, np.std]}\"\"\"\n",
    "\n",
    "    agg_functions = _combine_agg_functions(additional_agg_functions)\n",
    "    df = df.reset_index()\n",
    "\n",
    "    l = list()\n",
    "    for key, query in queries.items():\n",
    "        l.append(\n",
    "            _individual_filter_condition(df, key, query, clone_channel, agg_functions)\n",
    "        )\n",
    "\n",
    "    return reduce(\n",
    "        lambda df_left, df_right: pd.merge(\n",
    "            df_left, df_right, how=\"outer\", left_index=True, right_index=True\n",
    "        ),\n",
    "        l,\n",
    "    )"
   ]
  },
  {
   "cell_type": "markdown",
   "id": "80cdccec-47a5-4d6f-9232-15d274cdcf09",
   "metadata": {},
   "source": [
    "## data visualization functions"
   ]
  },
  {
   "cell_type": "code",
   "execution_count": null,
   "id": "5576c5bc-5a68-4137-8f02-c672bfd01b5b",
   "metadata": {},
   "outputs": [],
   "source": [
    "# export\n",
    "def create_stack_bar_plot(\n",
    "    df,\n",
    "    df_error_bar=None,\n",
    "    x_figSize=2.5,\n",
    "    y_figSize=2.5,\n",
    "    y_label=None,\n",
    "    y_axis_start=0,\n",
    "    y_axis_limit=None,\n",
    "    color_pal=sns.color_palette(palette=\"Blues_r\"),\n",
    "    bar_width=0.8,\n",
    "):\n",
    "\n",
    "    fig, ax = plt.subplots(figsize=(x_figSize, y_figSize))\n",
    "\n",
    "    sns.set(style=\"ticks\")\n",
    "\n",
    "    ax = df.plot(\n",
    "        kind=\"bar\",\n",
    "        stacked=True,\n",
    "        color=color_pal,\n",
    "        width=bar_width,\n",
    "        ax=ax,\n",
    "        yerr=df_error_bar,\n",
    "        capsize=4,\n",
    "    )\n",
    "    ax.set_ylabel(y_label)\n",
    "    sns.despine(ax=ax)\n",
    "    ax.xaxis.set_tick_params(width=1)\n",
    "    ax.yaxis.set_tick_params(width=1)\n",
    "    ax.tick_params(axis=\"both\", which=\"major\", pad=1)\n",
    "    plt.setp(ax.spines.values(), linewidth=1)\n",
    "\n",
    "    if not y_axis_limit == None:\n",
    "        ax.set_ylim(top=y_axis_limit)\n",
    "\n",
    "    handles, labels = ax.get_legend_handles_labels()\n",
    "\n",
    "    ax.legend(\n",
    "        reversed(handles), reversed(labels), bbox_to_anchor=(1, 1), loc=\"upper left\"\n",
    "    )"
   ]
  },
  {
   "cell_type": "code",
   "execution_count": null,
   "id": "434a7893-b6de-4d43-b79b-2323470477ad",
   "metadata": {},
   "outputs": [],
   "source": [
    "#export\n",
    "def plot_stat_annotation(\n",
    "    x_indexes: tuple, y: int, p_values: list, sep: int = None, text_colors: list = None\n",
    "):\n",
    "    if sep is None:\n",
    "        sep = y / 50\n",
    "\n",
    "    if text_colors is None:\n",
    "        text_colors = [\"k\"] * len(p_values)\n",
    "\n",
    "    x1, x2 = x_indexes\n",
    "    plt.plot([x1, x1, x2, x2], [y, y + sep, y + sep, y], lw=1.5, c=\"k\")\n",
    "\n",
    "    for i, (pval, col) in enumerate(zip(p_values, text_colors), 0):\n",
    "        spacing = y + i * sep * 4\n",
    "        plt.text(\n",
    "            (x1 + x2) / 2,\n",
    "            spacing,\n",
    "            pval,\n",
    "            ha=\"center\",\n",
    "            va=\"bottom\",\n",
    "            color=col,\n",
    "            fontsize=18,\n",
    "        )"
   ]
  },
  {
   "cell_type": "code",
   "execution_count": null,
   "id": "2dc7ac6c-74a8-46f7-b354-9494228aa056",
   "metadata": {},
   "outputs": [],
   "source": [
    "#export\n",
    "def pvals_to_stat_anots(\n",
    "    pvals_arr,\n",
    "    pval_thresholds=(0.0001, 0.001, 0.01, 0.05, 1),\n",
    "    annotations=(\"****\", \"***\", \"**\", \"*\", r\"$^{ns}$\"),\n",
    "):\n",
    "    return pd.cut(\n",
    "        pvals_arr, bins=(0,) + pval_thresholds, labels=annotations\n",
    "    ).astype(str)"
   ]
  }
 ],
 "metadata": {
  "kernelspec": {
   "display_name": "Python 3 (ipykernel)",
   "language": "python",
   "name": "python3"
  }
 },
 "nbformat": 4,
 "nbformat_minor": 5
}
