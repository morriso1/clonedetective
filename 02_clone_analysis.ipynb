{
 "cells": [
  {
   "cell_type": "code",
   "execution_count": null,
   "id": "e1fc51c1-e375-47d8-a26f-cfbb2f3e5517",
   "metadata": {},
   "outputs": [],
   "source": [
    "# default_exp clone_analysis"
   ]
  },
  {
   "cell_type": "code",
   "execution_count": null,
   "id": "3208586a-e49c-44c7-b4fe-6589c9fe0ab8",
   "metadata": {},
   "outputs": [],
   "source": [
    "#export\n",
    "from functools import reduce\n",
    "\n",
    "import numpy as np\n",
    "import pandas as pd"
   ]
  },
  {
   "cell_type": "markdown",
   "id": "4452822d-6eae-4e83-8ed4-c9d652c2ab75",
   "metadata": {},
   "source": [
    "# Clone Analysis Functions"
   ]
  },
  {
   "cell_type": "code",
   "execution_count": null,
   "id": "7b511ecd-58b0-4de6-bbc8-c1f0fc2b4c53",
   "metadata": {},
   "outputs": [],
   "source": [
    "# export\n",
    "def combine_agg_functions(additional_agg_functions):\n",
    "    if additional_agg_functions is None:\n",
    "        additional_agg_functions = {}\n",
    "\n",
    "    agg_functions = {\"C0_labels\": \"count\", \"area_um2\": [np.mean, np.std]}\n",
    "    return {**agg_functions, **additional_agg_functions}"
   ]
  },
  {
   "cell_type": "code",
   "execution_count": null,
   "id": "fa8504bf-ab08-459b-83bf-e9c219bd3936",
   "metadata": {},
   "outputs": [],
   "source": [
    "# export\n",
    "def individual_filter_condition(\n",
    "    df, filtered_col_name: str, query: str, clone_channel: str, agg_functions\n",
    "):\n",
    "    temp_df = (\n",
    "        df.query(query).groupby([\"img_name\", clone_channel]).agg(agg_functions)\n",
    "    ).copy()\n",
    "\n",
    "    temp_df.columns = pd.MultiIndex.from_tuples(\n",
    "        [(filtered_col_name,) + a for a in temp_df.columns]\n",
    "    )\n",
    "    return temp_df"
   ]
  },
  {
   "cell_type": "code",
   "execution_count": null,
   "id": "1f8a3441-ff0c-4ec4-8645-8c4a6818d16c",
   "metadata": {},
   "outputs": [],
   "source": [
    "# export\n",
    "def query_df_groupby_by_clone_channel(\n",
    "    df,\n",
    "    queries: dict,\n",
    "    clone_channel: str = \"C1\",\n",
    "    additional_agg_functions: dict = None,\n",
    "):\n",
    "    \"\"\"additional agg_functions could be something like:\n",
    "    additional_agg_functions = {\"mean_intensity\": [np.mean, np.std]}\"\"\"\n",
    "\n",
    "    agg_functions = combine_agg_functions(additional_agg_functions)\n",
    "    df = df.reset_index()\n",
    "\n",
    "    l = list()\n",
    "    for key, query in queries.items():\n",
    "        l.append(\n",
    "            individual_filter_condition(df, key, query, clone_channel, agg_functions)\n",
    "        )\n",
    "\n",
    "    return reduce(\n",
    "        lambda df_left, df_right: pd.merge(\n",
    "            df_left, df_right, left_index=True, right_index=True\n",
    "        ),\n",
    "        l,\n",
    "    )"
   ]
  },
  {
   "cell_type": "code",
   "execution_count": null,
   "id": "f7af79fd-7417-40aa-aaa3-33530b379e24",
   "metadata": {},
   "outputs": [],
   "source": []
  }
 ],
 "metadata": {
  "kernelspec": {
   "display_name": "Python 3",
   "language": "python",
   "name": "python3"
  }
 },
 "nbformat": 4,
 "nbformat_minor": 5
}
