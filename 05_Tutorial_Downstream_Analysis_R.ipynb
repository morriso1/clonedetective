{
 "cells": [
  {
   "cell_type": "markdown",
   "id": "8b1da00c-3dbb-40c8-b73a-0d0e67760561",
   "metadata": {},
   "source": [
    "# Downstream Analysis - R"
   ]
  },
  {
   "cell_type": "code",
   "execution_count": null,
   "id": "373b513b-e367-4d0a-8534-95437593e0ec",
   "metadata": {},
   "outputs": [
    {
     "name": "stderr",
     "output_type": "stream",
     "text": [
      "── \u001b[1mAttaching packages\u001b[22m ─────── tidyverse 1.3.1 ──\n",
      "\n",
      "\u001b[32m✔\u001b[39m \u001b[34mggplot2\u001b[39m 3.3.5     \u001b[32m✔\u001b[39m \u001b[34mpurrr  \u001b[39m 0.3.4\n",
      "\u001b[32m✔\u001b[39m \u001b[34mtibble \u001b[39m 3.1.3     \u001b[32m✔\u001b[39m \u001b[34mdplyr  \u001b[39m 1.0.7\n",
      "\u001b[32m✔\u001b[39m \u001b[34mtidyr  \u001b[39m 1.1.3     \u001b[32m✔\u001b[39m \u001b[34mstringr\u001b[39m 1.4.0\n",
      "\u001b[32m✔\u001b[39m \u001b[34mreadr  \u001b[39m 1.4.0     \u001b[32m✔\u001b[39m \u001b[34mforcats\u001b[39m 0.5.1\n",
      "\n",
      "── \u001b[1mConflicts\u001b[22m ────────── tidyverse_conflicts() ──\n",
      "\u001b[31m✖\u001b[39m \u001b[34mdplyr\u001b[39m::\u001b[32mfilter()\u001b[39m masks \u001b[34mstats\u001b[39m::filter()\n",
      "\u001b[31m✖\u001b[39m \u001b[34mdplyr\u001b[39m::\u001b[32mlag()\u001b[39m    masks \u001b[34mstats\u001b[39m::lag()\n",
      "\n"
     ]
    }
   ],
   "source": [
    "#all_slow\n",
    "#hide_output\n",
    "library(tidyverse)\n",
    "library(cowplot)\n",
    "library(limma)"
   ]
  },
  {
   "cell_type": "code",
   "execution_count": null,
   "id": "15bd74a5-fd73-4ca0-9f3b-3b6d8e982bd0",
   "metadata": {},
   "outputs": [
    {
     "name": "stderr",
     "output_type": "stream",
     "text": [
      "\n",
      "\u001b[36m──\u001b[39m \u001b[1m\u001b[1mColumn specification\u001b[1m\u001b[22m \u001b[36m────────────────────────\u001b[39m\n",
      "cols(\n",
      "  .default = col_double(),\n",
      "  int_img = \u001b[31mcol_character()\u001b[39m,\n",
      "  seg_ch = \u001b[31mcol_character()\u001b[39m,\n",
      "  int_img_ch = \u001b[31mcol_character()\u001b[39m,\n",
      "  seg_img = \u001b[31mcol_character()\u001b[39m,\n",
      "  GFP_pos = \u001b[33mcol_logical()\u001b[39m,\n",
      "  EC_pos = \u001b[33mcol_logical()\u001b[39m,\n",
      "  EE_pos = \u001b[33mcol_logical()\u001b[39m,\n",
      "  preEC_pos = \u001b[33mcol_logical()\u001b[39m,\n",
      "  ISCorEB_pos = \u001b[33mcol_logical()\u001b[39m\n",
      ")\n",
      "\u001b[36mℹ\u001b[39m Use \u001b[30m\u001b[47m\u001b[30m\u001b[47m`spec()`\u001b[47m\u001b[30m\u001b[49m\u001b[39m for the full column specifications.\n",
      "\n",
      "\n"
     ]
    }
   ],
   "source": [
    "#hide_output\n",
    "count_df <- read_csv(\"data/example_results.csv\")"
   ]
  },
  {
   "cell_type": "code",
   "execution_count": null,
   "id": "e2f1ff32-0469-4605-9d16-f79488defc6b",
   "metadata": {},
   "outputs": [
    {
     "data": {
      "text/html": [
       "<table class=\"dataframe\">\n",
       "<caption>A tibble: 6 × 29</caption>\n",
       "<thead>\n",
       "\t<tr><th scope=col>int_img</th><th scope=col>label</th><th scope=col>GFP_clone</th><th scope=col>GFPneg_neigh_counts</th><th scope=col>GFPpos_neigh_counts</th><th scope=col>total_neighbour_counts</th><th scope=col>ECneg_neigh_counts</th><th scope=col>ECpos_neigh_counts</th><th scope=col>EEneg_neigh_counts</th><th scope=col>EEpos_neigh_counts</th><th scope=col>⋯</th><th scope=col>centroid-0</th><th scope=col>centroid-1</th><th scope=col>eccentricity</th><th scope=col>area_um2</th><th scope=col>GFP_pos</th><th scope=col>total_intensity</th><th scope=col>EC_pos</th><th scope=col>EE_pos</th><th scope=col>preEC_pos</th><th scope=col>ISCorEB_pos</th></tr>\n",
       "\t<tr><th scope=col>&lt;chr&gt;</th><th scope=col>&lt;dbl&gt;</th><th scope=col>&lt;dbl&gt;</th><th scope=col>&lt;dbl&gt;</th><th scope=col>&lt;dbl&gt;</th><th scope=col>&lt;dbl&gt;</th><th scope=col>&lt;dbl&gt;</th><th scope=col>&lt;dbl&gt;</th><th scope=col>&lt;dbl&gt;</th><th scope=col>&lt;dbl&gt;</th><th scope=col>⋯</th><th scope=col>&lt;dbl&gt;</th><th scope=col>&lt;dbl&gt;</th><th scope=col>&lt;dbl&gt;</th><th scope=col>&lt;dbl&gt;</th><th scope=col>&lt;lgl&gt;</th><th scope=col>&lt;dbl&gt;</th><th scope=col>&lt;lgl&gt;</th><th scope=col>&lt;lgl&gt;</th><th scope=col>&lt;lgl&gt;</th><th scope=col>&lt;lgl&gt;</th></tr>\n",
       "</thead>\n",
       "<tbody>\n",
       "\t<tr><td>a1g01p1</td><td>11</td><td>0</td><td>2</td><td>2</td><td>4</td><td>1</td><td>3</td><td>4</td><td>0</td><td>⋯</td><td>44.05470</td><td> 89.55212</td><td>0.4408815</td><td>73.28063</td><td>FALSE</td><td>2196457</td><td>TRUE</td><td>FALSE</td><td>FALSE</td><td>FALSE</td></tr>\n",
       "\t<tr><td>a1g01p1</td><td>11</td><td>0</td><td>2</td><td>2</td><td>4</td><td>1</td><td>3</td><td>4</td><td>0</td><td>⋯</td><td>44.05470</td><td> 89.55212</td><td>0.4408815</td><td>73.28063</td><td>FALSE</td><td>  52757</td><td>TRUE</td><td>FALSE</td><td>FALSE</td><td>FALSE</td></tr>\n",
       "\t<tr><td>a1g01p1</td><td>11</td><td>0</td><td>2</td><td>2</td><td>4</td><td>1</td><td>3</td><td>4</td><td>0</td><td>⋯</td><td>44.05470</td><td> 89.55212</td><td>0.4408815</td><td>73.28063</td><td>FALSE</td><td>2262648</td><td>TRUE</td><td>FALSE</td><td>FALSE</td><td>FALSE</td></tr>\n",
       "\t<tr><td>a1g01p1</td><td>11</td><td>0</td><td>2</td><td>2</td><td>4</td><td>1</td><td>3</td><td>4</td><td>0</td><td>⋯</td><td>44.05470</td><td> 89.55212</td><td>0.4408815</td><td>73.28063</td><td>FALSE</td><td>  67331</td><td>TRUE</td><td>FALSE</td><td>FALSE</td><td>FALSE</td></tr>\n",
       "\t<tr><td>a1g01p1</td><td>12</td><td>0</td><td>4</td><td>0</td><td>4</td><td>1</td><td>3</td><td>4</td><td>0</td><td>⋯</td><td>53.59004</td><td>486.79847</td><td>0.4652274</td><td>98.69063</td><td>FALSE</td><td>4113516</td><td>TRUE</td><td>FALSE</td><td>FALSE</td><td>FALSE</td></tr>\n",
       "\t<tr><td>a1g01p1</td><td>12</td><td>0</td><td>4</td><td>0</td><td>4</td><td>1</td><td>3</td><td>4</td><td>0</td><td>⋯</td><td>53.59004</td><td>486.79847</td><td>0.4652274</td><td>98.69063</td><td>FALSE</td><td>  99772</td><td>TRUE</td><td>FALSE</td><td>FALSE</td><td>FALSE</td></tr>\n",
       "</tbody>\n",
       "</table>\n"
      ],
      "text/latex": [
       "A tibble: 6 × 29\n",
       "\\begin{tabular}{lllllllllllllllllllll}\n",
       " int\\_img & label & GFP\\_clone & GFPneg\\_neigh\\_counts & GFPpos\\_neigh\\_counts & total\\_neighbour\\_counts & ECneg\\_neigh\\_counts & ECpos\\_neigh\\_counts & EEneg\\_neigh\\_counts & EEpos\\_neigh\\_counts & ⋯ & centroid-0 & centroid-1 & eccentricity & area\\_um2 & GFP\\_pos & total\\_intensity & EC\\_pos & EE\\_pos & preEC\\_pos & ISCorEB\\_pos\\\\\n",
       " <chr> & <dbl> & <dbl> & <dbl> & <dbl> & <dbl> & <dbl> & <dbl> & <dbl> & <dbl> & ⋯ & <dbl> & <dbl> & <dbl> & <dbl> & <lgl> & <dbl> & <lgl> & <lgl> & <lgl> & <lgl>\\\\\n",
       "\\hline\n",
       "\t a1g01p1 & 11 & 0 & 2 & 2 & 4 & 1 & 3 & 4 & 0 & ⋯ & 44.05470 &  89.55212 & 0.4408815 & 73.28063 & FALSE & 2196457 & TRUE & FALSE & FALSE & FALSE\\\\\n",
       "\t a1g01p1 & 11 & 0 & 2 & 2 & 4 & 1 & 3 & 4 & 0 & ⋯ & 44.05470 &  89.55212 & 0.4408815 & 73.28063 & FALSE &   52757 & TRUE & FALSE & FALSE & FALSE\\\\\n",
       "\t a1g01p1 & 11 & 0 & 2 & 2 & 4 & 1 & 3 & 4 & 0 & ⋯ & 44.05470 &  89.55212 & 0.4408815 & 73.28063 & FALSE & 2262648 & TRUE & FALSE & FALSE & FALSE\\\\\n",
       "\t a1g01p1 & 11 & 0 & 2 & 2 & 4 & 1 & 3 & 4 & 0 & ⋯ & 44.05470 &  89.55212 & 0.4408815 & 73.28063 & FALSE &   67331 & TRUE & FALSE & FALSE & FALSE\\\\\n",
       "\t a1g01p1 & 12 & 0 & 4 & 0 & 4 & 1 & 3 & 4 & 0 & ⋯ & 53.59004 & 486.79847 & 0.4652274 & 98.69063 & FALSE & 4113516 & TRUE & FALSE & FALSE & FALSE\\\\\n",
       "\t a1g01p1 & 12 & 0 & 4 & 0 & 4 & 1 & 3 & 4 & 0 & ⋯ & 53.59004 & 486.79847 & 0.4652274 & 98.69063 & FALSE &   99772 & TRUE & FALSE & FALSE & FALSE\\\\\n",
       "\\end{tabular}\n"
      ],
      "text/markdown": [
       "\n",
       "A tibble: 6 × 29\n",
       "\n",
       "| int_img &lt;chr&gt; | label &lt;dbl&gt; | GFP_clone &lt;dbl&gt; | GFPneg_neigh_counts &lt;dbl&gt; | GFPpos_neigh_counts &lt;dbl&gt; | total_neighbour_counts &lt;dbl&gt; | ECneg_neigh_counts &lt;dbl&gt; | ECpos_neigh_counts &lt;dbl&gt; | EEneg_neigh_counts &lt;dbl&gt; | EEpos_neigh_counts &lt;dbl&gt; | ⋯ ⋯ | centroid-0 &lt;dbl&gt; | centroid-1 &lt;dbl&gt; | eccentricity &lt;dbl&gt; | area_um2 &lt;dbl&gt; | GFP_pos &lt;lgl&gt; | total_intensity &lt;dbl&gt; | EC_pos &lt;lgl&gt; | EE_pos &lt;lgl&gt; | preEC_pos &lt;lgl&gt; | ISCorEB_pos &lt;lgl&gt; |\n",
       "|---|---|---|---|---|---|---|---|---|---|---|---|---|---|---|---|---|---|---|---|---|\n",
       "| a1g01p1 | 11 | 0 | 2 | 2 | 4 | 1 | 3 | 4 | 0 | ⋯ | 44.05470 |  89.55212 | 0.4408815 | 73.28063 | FALSE | 2196457 | TRUE | FALSE | FALSE | FALSE |\n",
       "| a1g01p1 | 11 | 0 | 2 | 2 | 4 | 1 | 3 | 4 | 0 | ⋯ | 44.05470 |  89.55212 | 0.4408815 | 73.28063 | FALSE |   52757 | TRUE | FALSE | FALSE | FALSE |\n",
       "| a1g01p1 | 11 | 0 | 2 | 2 | 4 | 1 | 3 | 4 | 0 | ⋯ | 44.05470 |  89.55212 | 0.4408815 | 73.28063 | FALSE | 2262648 | TRUE | FALSE | FALSE | FALSE |\n",
       "| a1g01p1 | 11 | 0 | 2 | 2 | 4 | 1 | 3 | 4 | 0 | ⋯ | 44.05470 |  89.55212 | 0.4408815 | 73.28063 | FALSE |   67331 | TRUE | FALSE | FALSE | FALSE |\n",
       "| a1g01p1 | 12 | 0 | 4 | 0 | 4 | 1 | 3 | 4 | 0 | ⋯ | 53.59004 | 486.79847 | 0.4652274 | 98.69063 | FALSE | 4113516 | TRUE | FALSE | FALSE | FALSE |\n",
       "| a1g01p1 | 12 | 0 | 4 | 0 | 4 | 1 | 3 | 4 | 0 | ⋯ | 53.59004 | 486.79847 | 0.4652274 | 98.69063 | FALSE |   99772 | TRUE | FALSE | FALSE | FALSE |\n",
       "\n"
      ],
      "text/plain": [
       "  int_img label GFP_clone GFPneg_neigh_counts GFPpos_neigh_counts\n",
       "1 a1g01p1 11    0         2                   2                  \n",
       "2 a1g01p1 11    0         2                   2                  \n",
       "3 a1g01p1 11    0         2                   2                  \n",
       "4 a1g01p1 11    0         2                   2                  \n",
       "5 a1g01p1 12    0         4                   0                  \n",
       "6 a1g01p1 12    0         4                   0                  \n",
       "  total_neighbour_counts ECneg_neigh_counts ECpos_neigh_counts\n",
       "1 4                      1                  3                 \n",
       "2 4                      1                  3                 \n",
       "3 4                      1                  3                 \n",
       "4 4                      1                  3                 \n",
       "5 4                      1                  3                 \n",
       "6 4                      1                  3                 \n",
       "  EEneg_neigh_counts EEpos_neigh_counts ⋯ centroid-0 centroid-1 eccentricity\n",
       "1 4                  0                  ⋯ 44.05470    89.55212  0.4408815   \n",
       "2 4                  0                  ⋯ 44.05470    89.55212  0.4408815   \n",
       "3 4                  0                  ⋯ 44.05470    89.55212  0.4408815   \n",
       "4 4                  0                  ⋯ 44.05470    89.55212  0.4408815   \n",
       "5 4                  0                  ⋯ 53.59004   486.79847  0.4652274   \n",
       "6 4                  0                  ⋯ 53.59004   486.79847  0.4652274   \n",
       "  area_um2 GFP_pos total_intensity EC_pos EE_pos preEC_pos ISCorEB_pos\n",
       "1 73.28063 FALSE   2196457         TRUE   FALSE  FALSE     FALSE      \n",
       "2 73.28063 FALSE     52757         TRUE   FALSE  FALSE     FALSE      \n",
       "3 73.28063 FALSE   2262648         TRUE   FALSE  FALSE     FALSE      \n",
       "4 73.28063 FALSE     67331         TRUE   FALSE  FALSE     FALSE      \n",
       "5 98.69063 FALSE   4113516         TRUE   FALSE  FALSE     FALSE      \n",
       "6 98.69063 FALSE     99772         TRUE   FALSE  FALSE     FALSE      "
      ]
     },
     "metadata": {},
     "output_type": "display_data"
    }
   ],
   "source": [
    "count_df %>% head()"
   ]
  },
  {
   "cell_type": "code",
   "execution_count": null,
   "id": "1518e77d-2b5c-4bf8-a436-8e77d499b7d4",
   "metadata": {},
   "outputs": [
    {
     "name": "stderr",
     "output_type": "stream",
     "text": [
      "Warning message:\n",
      "“Predicate functions must be wrapped in `where()`.\n",
      "\n",
      "  # Bad\n",
      "  data %>% select(is_character)\n",
      "\n",
      "  # Good\n",
      "  data %>% select(where(is_character))\n",
      "\n",
      "\u001b[34mℹ\u001b[39m Please update your code.\n",
      "\u001b[90mThis message is displayed once per session.\u001b[39m”\n",
      "`summarise()` has grouped output by 'int_img'. You can override using the `.groups` argument.\n",
      "\n"
     ]
    }
   ],
   "source": [
    "#hide_output\n",
    "count_df <- count_df %>%\n",
    "  mutate(across(is_character, as_factor)) %>%\n",
    "  filter(int_img_ch == 'C1') %>%\n",
    "  select(matches(\"clone$|pos$|int_img\")) %>%\n",
    "  group_by(int_img, GFP_clone) %>%\n",
    "  summarise(\n",
    "    EC = sum(EC_pos),\n",
    "    preEC = sum(preEC_pos),\n",
    "    EE = sum(EE_pos),\n",
    "    ISCorEB = sum(ISCorEB_pos)\n",
    "  ) %>%\n",
    "  mutate(\n",
    "    clone_status = if_else(GFP_clone == 0, 'OC', 'IC'),\n",
    "    genotype = if_else(str_detect(int_img, 'a1'), 'ctrl', 'mut'),\n",
    "    total = EC + preEC + EE + ISCorEB\n",
    "  )"
   ]
  },
  {
   "cell_type": "code",
   "execution_count": null,
   "id": "9751e824-db92-4c9a-bc3c-1368e63445be",
   "metadata": {},
   "outputs": [],
   "source": [
    "count_df_tidy <-\n",
    "  count_df %>% pivot_longer(cols = EC:ISCorEB,\n",
    "                            names_to = 'cell_type',\n",
    "                            values_to = 'cell_num') %>%\n",
    "  mutate(cell_type = factor(cell_type, levels = c('EE', 'EC', 'preEC', 'ISCorEB')))"
   ]
  },
  {
   "cell_type": "code",
   "execution_count": null,
   "id": "179830ff-7dc4-40a5-ac5d-7142bfec181e",
   "metadata": {},
   "outputs": [],
   "source": [
    "# create stacked bar plots\n",
    "stacked_bar_mean <- count_df_tidy %>%\n",
    "  filter(clone_status == 'IC') %>%\n",
    "  ggplot(aes(fill = cell_type, y = cell_num, x = genotype)) +\n",
    "  geom_bar(position = \"stack\",\n",
    "           stat = \"summary\",\n",
    "           fun = 'mean') +\n",
    "  theme_bw() +\n",
    "  scale_fill_manual(values = c(\"#95a5a6\", \"#F57171\", \"#539DC2\", \"#008b68\"))"
   ]
  },
  {
   "cell_type": "code",
   "execution_count": null,
   "id": "af0b5b60-2993-4f89-b71d-1bf360ea3864",
   "metadata": {},
   "outputs": [],
   "source": [
    "stacked_bar_percentage <- count_df_tidy %>%\n",
    "  ggplot(aes(fill = cell_type, y = cell_num, x = genotype)) +\n",
    "  geom_bar(position = \"fill\", stat = 'identity') +\n",
    "  theme_bw() +\n",
    "  facet_wrap(vars(clone_status)) +\n",
    "  scale_fill_manual(values = c(\"#95a5a6\", \"#F57171\", \"#539DC2\", \"#008b68\")) +\n",
    "  theme(legend.position = \"none\")"
   ]
  },
  {
   "cell_type": "code",
   "execution_count": null,
   "id": "8a302245-d452-4750-9b50-ddc59a281dc0",
   "metadata": {},
   "outputs": [
    {
     "data": {
      "image/png": "[encoded data removed]",
      "text/plain": [
       "plot without title"
      ]
     },
     "metadata": {
      "image/png": {
       "height": 420,
       "width": 420
      }
     },
     "output_type": "display_data"
    }
   ],
   "source": [
    "ggdraw() +\n",
    "  draw_plot(stacked_bar_mean, x = 0, width = .5) +\n",
    "  draw_plot(stacked_bar_percentage, x = 0.5, width = .5)"
   ]
  },
  {
   "cell_type": "code",
   "execution_count": null,
   "id": "d7912dd2-e787-43a4-b05b-b78c174dde80",
   "metadata": {},
   "outputs": [],
   "source": [
    "perc_df_tidy <-\n",
    "  count_df_tidy %>% mutate(\n",
    "    perc_cell_num = cell_num / total * 100,\n",
    "    comp_g_cs_ct = as_factor(paste(genotype, clone_status, cell_type, sep = '_'))\n",
    "  )"
   ]
  },
  {
   "cell_type": "code",
   "execution_count": null,
   "id": "4f05ae3f-09c1-4dea-8a54-23f01829bdf4",
   "metadata": {},
   "outputs": [],
   "source": [
    "contr <-\n",
    "  limma::makeContrasts(mut_IC_EC - ctrl_IC_EC, \n",
    "                       mut_IC_EE - ctrl_IC_EE,\n",
    "                       mut_IC_preEC - ctrl_IC_preEC,\n",
    "                       mut_IC_ISCorEB - ctrl_IC_ISCorEB,\n",
    "                       mut_OC_EC - mut_IC_EC,\n",
    "                       mut_OC_EE - mut_IC_EE,\n",
    "                       mut_OC_preEC - mut_IC_preEC,\n",
    "                       mut_OC_ISCorEB - mut_IC_ISCorEB,\n",
    "                       levels = unique(perc_df_tidy$comp_g_cs_ct))"
   ]
  },
  {
   "cell_type": "code",
   "execution_count": null,
   "id": "85a6310b-0446-4aa9-84bf-7843888c99ae",
   "metadata": {},
   "outputs": [],
   "source": [
    "contrasts(perc_df_tidy$comp_g_cs_ct, how.many = 8) <- contr"
   ]
  },
  {
   "cell_type": "code",
   "execution_count": null,
   "id": "8c2cbc49-d8b5-43b4-9359-6824433c1408",
   "metadata": {},
   "outputs": [
    {
     "data": {
      "text/plain": [
       "                                                   Df  Sum Sq Mean Sq  F value\n",
       "comp_g_cs_ct                                       16 2662485  166405  324.217\n",
       "  comp_g_cs_ct: mut_IC_EC - ctrl_IC_EC              1   58190   58190  113.376\n",
       "  comp_g_cs_ct: mut_IC_EE - ctrl_IC_EE              1       6       6    0.011\n",
       "  comp_g_cs_ct: mut_IC_preEC - ctrl_IC_preEC        1     721     721    1.406\n",
       "  comp_g_cs_ct: mut_IC_ISCorEB - ctrl_IC_ISCorEB    1   97751   97751  190.454\n",
       "  comp_g_cs_ct: mut_OC_EC - mut_IC_EC               1  328239  328239  639.527\n",
       "  comp_g_cs_ct: mut_OC_EE - mut_IC_EE               1       2       2    0.004\n",
       "  comp_g_cs_ct: mut_OC_preEC - mut_IC_preEC         1    1445    1445    2.815\n",
       "  comp_g_cs_ct: mut_OC_ISCorEB - mut_IC_ISCorEB     1  614620  614620 1197.499\n",
       "Residuals                                        1968 1010083     513         \n",
       "                                                 Pr(>F)    \n",
       "comp_g_cs_ct                                     <2e-16 ***\n",
       "  comp_g_cs_ct: mut_IC_EC - ctrl_IC_EC           <2e-16 ***\n",
       "  comp_g_cs_ct: mut_IC_EE - ctrl_IC_EE           0.9171    \n",
       "  comp_g_cs_ct: mut_IC_preEC - ctrl_IC_preEC     0.2359    \n",
       "  comp_g_cs_ct: mut_IC_ISCorEB - ctrl_IC_ISCorEB <2e-16 ***\n",
       "  comp_g_cs_ct: mut_OC_EC - mut_IC_EC            <2e-16 ***\n",
       "  comp_g_cs_ct: mut_OC_EE - mut_IC_EE            0.9467    \n",
       "  comp_g_cs_ct: mut_OC_preEC - mut_IC_preEC      0.0936 .  \n",
       "  comp_g_cs_ct: mut_OC_ISCorEB - mut_IC_ISCorEB  <2e-16 ***\n",
       "Residuals                                                  \n",
       "---\n",
       "Signif. codes:  0 ‘***’ 0.001 ‘**’ 0.01 ‘*’ 0.05 ‘.’ 0.1 ‘ ’ 1"
      ]
     },
     "metadata": {},
     "output_type": "display_data"
    }
   ],
   "source": [
    "lcon <-seq(8)\n",
    "names(lcon) <- colnames(contr)\n",
    "lcon<- lcon %>% as.list()\n",
    "\n",
    "model <- aov(perc_cell_num ~ comp_g_cs_ct -1, perc_df_tidy)\n",
    "\n",
    "summary(model, split=list(comp_g_cs_ct=lcon))"
   ]
  },
  {
   "cell_type": "code",
   "execution_count": null,
   "id": "f8b04ca7-587f-41b8-af45-c0fa3483df8c",
   "metadata": {},
   "outputs": [],
   "source": []
  }
 ],
 "metadata": {
  "kernelspec": {
   "display_name": "R",
   "language": "R",
   "name": "ir"
  }
 },
 "nbformat": 4,
 "nbformat_minor": 5
}
